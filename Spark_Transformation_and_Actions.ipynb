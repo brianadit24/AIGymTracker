{
  "nbformat": 4,
  "nbformat_minor": 0,
  "metadata": {
    "colab": {
      "name": "Spark Transformation and Actions.ipynb",
      "provenance": [],
      "collapsed_sections": [],
      "authorship_tag": "ABX9TyPCua5KYrLIpX+LVEsJ97gO",
      "include_colab_link": true
    },
    "kernelspec": {
      "name": "python3",
      "display_name": "Python 3"
    },
    "language_info": {
      "name": "python"
    }
  },
  "cells": [
    {
      "cell_type": "markdown",
      "metadata": {
        "id": "view-in-github",
        "colab_type": "text"
      },
      "source": [
        "<a href=\"https://colab.research.google.com/github/brianadit24/AIGymTracker/blob/master/Spark_Transformation_and_Actions.ipynb\" target=\"_parent\"><img src=\"https://colab.research.google.com/assets/colab-badge.svg\" alt=\"Open In Colab\"/></a>"
      ]
    },
    {
      "cell_type": "code",
      "metadata": {
        "colab": {
          "base_uri": "https://localhost:8080/"
        },
        "id": "f7-zW5Mu_UCD",
        "outputId": "9fbf08a7-9e47-4796-bd30-5f787ad90d28"
      },
      "source": [
        "!pip install pyspark"
      ],
      "execution_count": 1,
      "outputs": [
        {
          "output_type": "stream",
          "text": [
            "Collecting pyspark\n",
            "  Downloading pyspark-3.1.2.tar.gz (212.4 MB)\n",
            "\u001b[K     |████████████████████████████████| 212.4 MB 59 kB/s \n",
            "\u001b[?25hCollecting py4j==0.10.9\n",
            "  Downloading py4j-0.10.9-py2.py3-none-any.whl (198 kB)\n",
            "\u001b[K     |████████████████████████████████| 198 kB 62.1 MB/s \n",
            "\u001b[?25hBuilding wheels for collected packages: pyspark\n",
            "  Building wheel for pyspark (setup.py) ... \u001b[?25l\u001b[?25hdone\n",
            "  Created wheel for pyspark: filename=pyspark-3.1.2-py2.py3-none-any.whl size=212880768 sha256=cb4a2ea9093ee790274ceba274933ac47e3fc0293f0e8b1f4b0e7d3b44385b47\n",
            "  Stored in directory: /root/.cache/pip/wheels/a5/0a/c1/9561f6fecb759579a7d863dcd846daaa95f598744e71b02c77\n",
            "Successfully built pyspark\n",
            "Installing collected packages: py4j, pyspark\n",
            "Successfully installed py4j-0.10.9 pyspark-3.1.2\n"
          ],
          "name": "stdout"
        }
      ]
    },
    {
      "cell_type": "code",
      "metadata": {
        "id": "JqVcJBe8_cMa"
      },
      "source": [
        "from pyspark.sql import SparkSession\n",
        "spark = SparkSession.builder.master(\"local[*]\").getOrCreate()"
      ],
      "execution_count": 2,
      "outputs": []
    },
    {
      "cell_type": "code",
      "metadata": {
        "colab": {
          "base_uri": "https://localhost:8080/",
          "height": 216
        },
        "id": "xd-7xqQ5_1RW",
        "outputId": "048a4235-7cdf-4b86-8c59-bcb73b22b49b"
      },
      "source": [
        "spark"
      ],
      "execution_count": 3,
      "outputs": [
        {
          "output_type": "execute_result",
          "data": {
            "text/html": [
              "\n",
              "            <div>\n",
              "                <p><b>SparkSession - in-memory</b></p>\n",
              "                \n",
              "        <div>\n",
              "            <p><b>SparkContext</b></p>\n",
              "\n",
              "            <p><a href=\"http://85cb8aa36ac0:4040\">Spark UI</a></p>\n",
              "\n",
              "            <dl>\n",
              "              <dt>Version</dt>\n",
              "                <dd><code>v3.1.2</code></dd>\n",
              "              <dt>Master</dt>\n",
              "                <dd><code>local[*]</code></dd>\n",
              "              <dt>AppName</dt>\n",
              "                <dd><code>pyspark-shell</code></dd>\n",
              "            </dl>\n",
              "        </div>\n",
              "        \n",
              "            </div>\n",
              "        "
            ],
            "text/plain": [
              "<pyspark.sql.session.SparkSession at 0x7f7431819810>"
            ]
          },
          "metadata": {
            "tags": []
          },
          "execution_count": 3
        }
      ]
    },
    {
      "cell_type": "markdown",
      "metadata": {
        "id": "24qLRFtdCY3e"
      },
      "source": [
        "# Collect Data"
      ]
    },
    {
      "cell_type": "code",
      "metadata": {
        "id": "fj4-E7b1_1vK"
      },
      "source": [
        "import os, sys, tempfile, urllib.request\n",
        "from pyspark.sql.functions import *"
      ],
      "execution_count": 4,
      "outputs": []
    },
    {
      "cell_type": "code",
      "metadata": {
        "id": "eoOiUI2MASRh"
      },
      "source": [
        "BASE_DIR = '/tmp'\n",
        "CORONA_DATA_FILE = os.path.join(BASE_DIR, 'corona_data.csv')"
      ],
      "execution_count": 5,
      "outputs": []
    },
    {
      "cell_type": "code",
      "metadata": {
        "id": "ZBXkybhhA4yh"
      },
      "source": [
        "corona_data = urllib.request.urlretrieve(\n",
        "    'https://raw.githubusercontent.com/srivatsan88/YouTubeLI/master/dataset/coronavirus/corona_dataset_latest.csv',\n",
        "    CORONA_DATA_FILE\n",
        ")"
      ],
      "execution_count": 6,
      "outputs": []
    },
    {
      "cell_type": "code",
      "metadata": {
        "id": "ZPzVoH-_BOQQ"
      },
      "source": [
        "BASE_DIR = '/tmp'\n",
        "TWITTER_DATA_FILE = os.path.join(BASE_DIR, 'twitter_data.csv')"
      ],
      "execution_count": 7,
      "outputs": []
    },
    {
      "cell_type": "code",
      "metadata": {
        "id": "8eBlZfmpCbYG"
      },
      "source": [
        "tweet_data = urllib.request.urlretrieve(\n",
        "    'https://raw.githubusercontent.com/srivatsan88/YouTubeLI/master/dataset/coronavirus/tweets.csv',\n",
        "    TWITTER_DATA_FILE\n",
        ")"
      ],
      "execution_count": 8,
      "outputs": []
    },
    {
      "cell_type": "markdown",
      "metadata": {
        "id": "mnv_f4i1ChZ9"
      },
      "source": [
        "# Read Data"
      ]
    },
    {
      "cell_type": "markdown",
      "metadata": {
        "id": "ugr3DQgmhW_M"
      },
      "source": [
        "## Corona Dataset"
      ]
    },
    {
      "cell_type": "code",
      "metadata": {
        "colab": {
          "base_uri": "https://localhost:8080/"
        },
        "id": "0SLfnGv6gCFC",
        "outputId": "2dad74d7-df19-4cfb-ec17-c59034eb0cad"
      },
      "source": [
        "corona_df = spark.read.mcsv('/tmp/corona_data.csv', header=True, inferSchema=True)\n",
        "corona_df.show()"
      ],
      "execution_count": 9,
      "outputs": [
        {
          "output_type": "stream",
          "text": [
            "+---+----------------+--------------------+--------+---------+----------+---------+-----+---------+--------------------+----+\n",
            "|_c0|           State|             Country|     Lat|     Long|      Date|Confirmed|Death|Recovered|       state_cleaned|City|\n",
            "+---+----------------+--------------------+--------+---------+----------+---------+-----+---------+--------------------+----+\n",
            "|  0|            null|            Thailand|    15.0|    101.0|2020-01-22|        2|    0|        0|             Bangkok|null|\n",
            "|  1|            null|               Japan|    36.0|    138.0|2020-01-22|        2|    0|        0|             Hiraide|null|\n",
            "|  2|            null|           Singapore|  1.2833| 103.8333|2020-01-22|        0|    0|        0|           Singapore|null|\n",
            "|  3|            null|               Nepal| 28.1667|    84.25|2020-01-22|        0|    0|        0|           Kathmandu|null|\n",
            "|  4|            null|            Malaysia|     2.5|    112.5|2020-01-22|        0|    0|        0|             Sarawak|null|\n",
            "|  5|British Columbia|              Canada| 49.2827|-123.1207|2020-01-22|        0|    0|        0|    British Columbia|null|\n",
            "|  6| New South Wales|           Australia|-33.8688| 151.2093|2020-01-22|        0|    0|        0|     New South Wales|null|\n",
            "|  7|        Victoria|           Australia|-37.8136| 144.9631|2020-01-22|        0|    0|        0|            Victoria|null|\n",
            "|  8|      Queensland|           Australia|-28.0167|    153.4|2020-01-22|        0|    0|        0|          Queensland|null|\n",
            "|  9|            null|            Cambodia|   11.55| 104.9167|2020-01-22|        0|    0|        0|          Phnom Penh|null|\n",
            "| 10|            null|           Sri Lanka|     7.0|     81.0|2020-01-22|        0|    0|        0|Sri Jayawardenapu...|null|\n",
            "| 11|            null|             Germany|    51.0|      9.0|2020-01-22|        0|    0|        0|              Berlin|null|\n",
            "| 12|            null|             Finland|    64.0|     26.0|2020-01-22|        0|    0|        0|            Helsinki|null|\n",
            "| 13|            null|United Arab Emirates|    24.0|     54.0|2020-01-22|        0|    0|        0|           Abu Dhabi|null|\n",
            "| 14|            null|         Philippines|    13.0|    122.0|2020-01-22|        0|    0|        0|              Manila|null|\n",
            "| 15|            null|               India|    21.0|     78.0|2020-01-22|        0|    0|        0|           New Delhi|null|\n",
            "| 16|            null|               Italy|    43.0|     12.0|2020-01-22|        0|    0|        0|                Rome|null|\n",
            "| 17|            null|              Sweden|    63.0|     16.0|2020-01-22|        0|    0|        0|           Stockholm|null|\n",
            "| 18|            null|               Spain|    40.0|     -4.0|2020-01-22|        0|    0|        0|              Toledo|null|\n",
            "| 19| South Australia|           Australia|-34.9285| 138.6007|2020-01-22|        0|    0|        0|     South Australia|null|\n",
            "+---+----------------+--------------------+--------+---------+----------+---------+-----+---------+--------------------+----+\n",
            "only showing top 20 rows\n",
            "\n"
          ],
          "name": "stdout"
        }
      ]
    },
    {
      "cell_type": "code",
      "metadata": {
        "colab": {
          "base_uri": "https://localhost:8080/"
        },
        "id": "j92yf8GAgvgz",
        "outputId": "5cfb47cb-a161-45e5-e204-7a8eec7272e5"
      },
      "source": [
        "corona_df.count()"
      ],
      "execution_count": 12,
      "outputs": [
        {
          "output_type": "execute_result",
          "data": {
            "text/plain": [
              "28143"
            ]
          },
          "metadata": {
            "tags": []
          },
          "execution_count": 12
        }
      ]
    },
    {
      "cell_type": "markdown",
      "metadata": {
        "id": "-q76q0Q1hOuI"
      },
      "source": [
        "## Twitter Dataset"
      ]
    },
    {
      "cell_type": "code",
      "metadata": {
        "colab": {
          "base_uri": "https://localhost:8080/"
        },
        "id": "ZOK7mCaYhciO",
        "outputId": "5f65b7aa-c14c-465e-e59d-f5ecad40cf37"
      },
      "source": [
        "twitter_df = spark.read.csv('/tmp/twitter_data.csv', header=True, inferSchema=True)\n",
        "twitter_df.show()"
      ],
      "execution_count": 14,
      "outputs": [
        {
          "output_type": "stream",
          "text": [
            "+---+----+--------------------+--------------------+--------------------+--------------------+--------------------+--------------------+\n",
            "|_c0| geo|                text|                user|            location|            entities|           sentiment|             country|\n",
            "+---+----+--------------------+--------------------+--------------------+--------------------+--------------------+--------------------+\n",
            "|  0|null|What is God sayin...|          petodinice|               Lagos|[('about #', 'CAR...|{'neg': 0.0, 'neu...|             Nigeria|\n",
            "|  1|null|\"BREAKING: \"\"this...| but i took the t...|                -… \"|     JerryfranksonJF|      Abuja, Nigeria|\"[(\"\"Arsenal's Mi...|\n",
            "|  2|null| #Coronavirus tes...|              cek422|   Pennsylvania, USA|                  []|{'neg': 0.173, 'n...|                 USA|\n",
            "|  3|null| Get ready for ma...|        InfectiousDz|                 NYC|[('World', 'ORG')...|{'neg': 0.085, 'n...|                 USA|\n",
            "|  4|null| The #coronavirus...|          vic_gibson|                null|                ['']|{'neg': 0.0, 'neu...|                null|\n",
            "|  5|null| COVID-19 update ...|      StewartNgilana|Durban | Port Eli...|[('Italy', 'GPE')...|{'neg': 0.178, 'n...|                 USA|\n",
            "|  6|null| It’s painful to ...|           BWheatnyc|             Florida|                  []|{'neg': 0.098, 'n...|                 USA|\n",
            "|  7|null| 📽️Friends, I wi...|             LorseaR|New South Wales, ...|[('Twitter', 'GPE...|{'neg': 0.123, 'n...|           Australia|\n",
            "|  8|null| Questions about ...|         straightj23|        Columbus, OH|[('NAfME', 'CARDI...|{'neg': 0.0, 'neu...|                 USA|\n",
            "|  9|null|How they’re deali...|       _______coolio| South East, England|['', ('Portsmouth...|{'neg': 0.126, 'n...|                  UK|\n",
            "| 10|null| BREAKING: Democr...|      champagneaylin|                null|[('Democrats', 'N...|{'neg': 0.221, 'n...|                null|\n",
            "| 11|null| “If we close dow...|       YorkLawLondon|                  UK|                  []|{'neg': 0.0, 'neu...|      United Kingdom|\n",
            "| 12|null| I pity the poor ...|      BeesonMargaret|                null|                ['']|{'neg': 0.227, 'n...|                null|\n",
            "| 13|null| We’re the heck w...|      harrytiffanyiv| Fort Washington, PA|[('the last 6 wee...|{'neg': 0.0, 'neu...|                 USA|\n",
            "| 14|null| I don't think sh...|         grammyheath|                null|[('Joy', 'PERSON'...|{'neg': 0.0, 'neu...|                null|\n",
            "| 15|null| Well written, so...|      barbara_ellena|Christchurch City...|                  []|{'neg': 0.0, 'neu...|         New Zealand|\n",
            "| 16|null| 1/2 CDC Director...|               fatal|                 USA|[('1/2', 'CARDINA...|{'neg': 0.139, 'n...|       United States|\n",
            "| 17|null| In all seriousne...|          pwjkmiller|                null|                ['']|{'neg': 0.218, 'n...|                null|\n",
            "| 18|null| Wash your hands....|        Mrrandy123RP|          Texas, USA|            ['', '']|{'neg': 0.0, 'neu...|                 USA|\n",
            "| 19|null| #CoronaVirusCana...|           aliensky0|           Worldwide|['', ('CoronaViru...|{'neg': 0.0, 'neu...|                 USA|\n",
            "+---+----+--------------------+--------------------+--------------------+--------------------+--------------------+--------------------+\n",
            "only showing top 20 rows\n",
            "\n"
          ],
          "name": "stdout"
        }
      ]
    },
    {
      "cell_type": "markdown",
      "metadata": {
        "id": "rytYPHNEqlaH"
      },
      "source": [
        "# Transformation and Actions"
      ]
    },
    {
      "cell_type": "markdown",
      "metadata": {
        "id": "ljkqd3kIrrEG"
      },
      "source": [
        "## Twitter Transformation"
      ]
    },
    {
      "cell_type": "code",
      "metadata": {
        "colab": {
          "base_uri": "https://localhost:8080/"
        },
        "id": "GtIzKRX5hlMQ",
        "outputId": "028bec65-4344-445d-ebc9-6bb268c58a58"
      },
      "source": [
        "twitter_df.filter(\"country='USA'\").show()"
      ],
      "execution_count": 15,
      "outputs": [
        {
          "output_type": "stream",
          "text": [
            "+---+----+--------------------+---------------+--------------------+--------------------+--------------------+-------+\n",
            "|_c0| geo|                text|           user|            location|            entities|           sentiment|country|\n",
            "+---+----+--------------------+---------------+--------------------+--------------------+--------------------+-------+\n",
            "|  2|null| #Coronavirus tes...|         cek422|   Pennsylvania, USA|                  []|{'neg': 0.173, 'n...|    USA|\n",
            "|  3|null| Get ready for ma...|   InfectiousDz|                 NYC|[('World', 'ORG')...|{'neg': 0.085, 'n...|    USA|\n",
            "|  5|null| COVID-19 update ...| StewartNgilana|Durban | Port Eli...|[('Italy', 'GPE')...|{'neg': 0.178, 'n...|    USA|\n",
            "|  6|null| It’s painful to ...|      BWheatnyc|             Florida|                  []|{'neg': 0.098, 'n...|    USA|\n",
            "|  8|null| Questions about ...|    straightj23|        Columbus, OH|[('NAfME', 'CARDI...|{'neg': 0.0, 'neu...|    USA|\n",
            "| 13|null| We’re the heck w...| harrytiffanyiv| Fort Washington, PA|[('the last 6 wee...|{'neg': 0.0, 'neu...|    USA|\n",
            "| 18|null| Wash your hands....|   Mrrandy123RP|          Texas, USA|            ['', '']|{'neg': 0.0, 'neu...|    USA|\n",
            "| 19|null| #CoronaVirusCana...|      aliensky0|           Worldwide|['', ('CoronaViru...|{'neg': 0.0, 'neu...|    USA|\n",
            "| 24|null| Dr. Dena Grayson...|billymocolorad2|         Denver area|[('Dena Grayson',...|{'neg': 0.0, 'neu...|    USA|\n",
            "| 29|null| #BREAKING Univer...|  _pulido_nenaa|         Fontana, CA|['', ('BREAKING U...|{'neg': 0.0, 'neu...|    USA|\n",
            "| 31|null| I ordered Alex J...|       rcgillan|       New York, USA|[('Alex Jones', '...|{'neg': 0.109, 'n...|    USA|\n",
            "| 32|null| #CoronavirusExpe...|        AD1968F|California / Florida|['', ('Coronaviru...|{'neg': 0.0, 'neu...|    USA|\n",
            "| 34|null| There is no obje...|       SFAuGrrl|   San Francisco, CA|['', ('FamiliesFi...|{'neg': 0.224, 'n...|    USA|\n",
            "| 36|null| Before #coronavi...|   Frankapistan|       Nashville, TN|[('China', 'GPE')...|{'neg': 0.144, 'n...|    USA|\n",
            "| 40|null|  When it's actua...|      Happyjam5|     Los Angeles, Ca|[('GOP', 'ORG'), ...|{'neg': 0.215, 'n...|    USA|\n",
            "| 41|null|#Coronavirus in #...|   GregoryGLake|              Global|['', ('5', 'CARDI...|{'neg': 0.318, 'n...|    USA|\n",
            "| 49|null| This week we are...|  JamesWithers3|  New York, New York|[('This week', 'D...|{'neg': 0.0, 'neu...|    USA|\n",
            "| 50|null| Trump is now doi...|      NewNewsey|          everywhere|[('Trump', 'ORG')...|{'neg': 0.0, 'neu...|    USA|\n",
            "| 55|null| The last patient...|   Khattarperla|          Highgarden|  [('Wuhan', 'GPE')]|{'neg': 0.0, 'neu...|    USA|\n",
            "| 56|null|...Hope y’all sta...|  Brandon4Brody|          Pueblo, CO|[('CDC', 'ORG'), ...|{'neg': 0.0, 'neu...|    USA|\n",
            "+---+----+--------------------+---------------+--------------------+--------------------+--------------------+-------+\n",
            "only showing top 20 rows\n",
            "\n"
          ],
          "name": "stdout"
        }
      ]
    },
    {
      "cell_type": "code",
      "metadata": {
        "colab": {
          "base_uri": "https://localhost:8080/"
        },
        "id": "Fgbv9ly8i-QS",
        "outputId": "06fefe30-32ce-4bbf-923d-15942fa8165f"
      },
      "source": [
        "twitter_df.filter(\"country='USA' and location like 'New%'\").show()"
      ],
      "execution_count": 16,
      "outputs": [
        {
          "output_type": "stream",
          "text": [
            "+---+----+--------------------+---------------+------------------+--------------------+--------------------+-------+\n",
            "|_c0| geo|                text|           user|          location|            entities|           sentiment|country|\n",
            "+---+----+--------------------+---------------+------------------+--------------------+--------------------+-------+\n",
            "| 31|null| I ordered Alex J...|       rcgillan|     New York, USA|[('Alex Jones', '...|{'neg': 0.109, 'n...|    USA|\n",
            "| 49|null| This week we are...|  JamesWithers3|New York, New York|[('This week', 'D...|{'neg': 0.0, 'neu...|    USA|\n",
            "|228|null|This is a very co...|baskingntheGlow|     New York City|[('hourly', 'TIME')]|{'neg': 0.12, 'ne...|    USA|\n",
            "|238|null|I’m reposting thi...|   Veronicaromm|   New Jersey, USA|[('English', 'LAN...|{'neg': 0.0, 'neu...|    USA|\n",
            "|261|null|Too early ...?  #...|      HJeppesen|      New York, NY|                ['']|{'neg': 0.0, 'neu...|    USA|\n",
            "|275|null|  The Republican ...|  GenetBataiile|New Hampshire, USA|[('Republican', '...|{'neg': 0.0, 'neu...|    USA|\n",
            "|369|null| I still look to ...|   SusanSeaside|       New England|[('SouthKorea', '...|{'neg': 0.0, 'neu...|    USA|\n",
            "|438|null|Can we call the #...|       nilchaks|   New Jersey, USA|                ['']|{'neg': 0.194, 'n...|    USA|\n",
            "|458|null| New deadly #coro...| ssummersabrina|   New Jersey, USA|                ['']|{'neg': 0.236, 'n...|    USA|\n",
            "|471|null|What the Caged Bi...|    AaronNetsky|      New York, NY|                  []|{'neg': 0.0, 'neu...|    USA|\n",
            "|553|null|Me: Tired of hear...|     AmandaB_B8|New Hampshire, USA|['', ('tonight', ...|{'neg': 0.252, 'n...|    USA|\n",
            "|612|null| New deadly #coro...|       klazimi1|     New York, USA|                ['']|{'neg': 0.236, 'n...|    USA|\n",
            "|622|null|Can someone pleas...|         pitaru|          New York|                ['']|{'neg': 0.168, 'n...|    USA|\n",
            "|664|null|Marriage in 2020 ...|           sciz|      New York, NY|[('2020', 'DATE')...|{'neg': 0.111, 'n...|    USA|\n",
            "|679|null|ALL MY MONEY ON E...|  misterauyeung|      New York, NY|[('ETF', 'ORG'), '']|{'neg': 0.148, 'n...|    USA|\n",
            "|724|null|#UniversalStudios...| cosmicbooknews|     New York, USA|['', ('UniversalS...|{'neg': 0.0, 'neu...|    USA|\n",
            "|850|null| There is no obje...|         rm1268|     New York, USA|['', ('FamiliesFi...|{'neg': 0.224, 'n...|    USA|\n",
            "|857|null| #Coronavirus Isr...| itsbenjamindoe|      New York, NY|['', ('Coronaviru...|{'neg': 0.0, 'neu...|    USA|\n",
            "|866|null| What a lousy day...|        insur58|        New Jersey|[('USA', 'GPE'), ...|{'neg': 0.085, 'n...|    USA|\n",
            "|919|null|\" #NEW \"\"Presiden...|      smcapgreg|   New Jersey, USA|[('NEW', 'ORG'), ...|{'neg': 0.167, 'n...|    USA|\n",
            "+---+----+--------------------+---------------+------------------+--------------------+--------------------+-------+\n",
            "only showing top 20 rows\n",
            "\n"
          ],
          "name": "stdout"
        }
      ]
    },
    {
      "cell_type": "code",
      "metadata": {
        "id": "zdmzOBfMkDBk"
      },
      "source": [
        "tw_filter_df = twitter_df.filter(\"country='USA'\")"
      ],
      "execution_count": 21,
      "outputs": []
    },
    {
      "cell_type": "code",
      "metadata": {
        "colab": {
          "base_uri": "https://localhost:8080/"
        },
        "id": "3XuOky0XkqQB",
        "outputId": "88238e48-e6e6-4a4f-a8a9-a6ceed4b2de7"
      },
      "source": [
        "tw_filter_df.explain()"
      ],
      "execution_count": 22,
      "outputs": [
        {
          "output_type": "stream",
          "text": [
            "== Physical Plan ==\n",
            "*(1) Filter (isnotnull(country#149) AND (country#149 = USA))\n",
            "+- FileScan csv [_c0#142,geo#143,text#144,user#145,location#146,entities#147,sentiment#148,country#149] Batched: false, DataFilters: [isnotnull(country#149), (country#149 = USA)], Format: CSV, Location: InMemoryFileIndex[file:/tmp/twitter_data.csv], PartitionFilters: [], PushedFilters: [IsNotNull(country), EqualTo(country,USA)], ReadSchema: struct<_c0:int,geo:string,text:string,user:string,location:string,entities:string,sentiment:strin...\n",
            "\n",
            "\n"
          ],
          "name": "stdout"
        }
      ]
    },
    {
      "cell_type": "code",
      "metadata": {
        "id": "AirhyBMskzHf"
      },
      "source": [
        "tw_filter_df = twitter_df.filter(\"country='USA' and location like '%New%'\")"
      ],
      "execution_count": 24,
      "outputs": []
    },
    {
      "cell_type": "code",
      "metadata": {
        "colab": {
          "base_uri": "https://localhost:8080/"
        },
        "id": "kO_a27PSlkfF",
        "outputId": "70b6dc82-4343-4546-874b-dae559a84358"
      },
      "source": [
        "tw_filter_df.explain()"
      ],
      "execution_count": 25,
      "outputs": [
        {
          "output_type": "stream",
          "text": [
            "== Physical Plan ==\n",
            "*(1) Filter (((isnotnull(country#149) AND isnotnull(location#146)) AND (country#149 = USA)) AND Contains(location#146, New))\n",
            "+- FileScan csv [_c0#142,geo#143,text#144,user#145,location#146,entities#147,sentiment#148,country#149] Batched: false, DataFilters: [isnotnull(country#149), isnotnull(location#146), (country#149 = USA), Contains(location#146, New)], Format: CSV, Location: InMemoryFileIndex[file:/tmp/twitter_data.csv], PartitionFilters: [], PushedFilters: [IsNotNull(country), IsNotNull(location), EqualTo(country,USA), StringContains(location,New)], ReadSchema: struct<_c0:int,geo:string,text:string,user:string,location:string,entities:string,sentiment:strin...\n",
            "\n",
            "\n"
          ],
          "name": "stdout"
        }
      ]
    },
    {
      "cell_type": "code",
      "metadata": {
        "colab": {
          "base_uri": "https://localhost:8080/"
        },
        "id": "dSlkGLAZlmFO",
        "outputId": "50726fb5-f64a-43e5-d58c-4d67ede0b940"
      },
      "source": [
        "tw_filter_df.show(5)"
      ],
      "execution_count": 26,
      "outputs": [
        {
          "output_type": "stream",
          "text": [
            "+---+----+--------------------+---------------+--------------------+--------------------+--------------------+-------+\n",
            "|_c0| geo|                text|           user|            location|            entities|           sentiment|country|\n",
            "+---+----+--------------------+---------------+--------------------+--------------------+--------------------+-------+\n",
            "| 31|null| I ordered Alex J...|       rcgillan|       New York, USA|[('Alex Jones', '...|{'neg': 0.109, 'n...|    USA|\n",
            "| 49|null| This week we are...|  JamesWithers3|  New York, New York|[('This week', 'D...|{'neg': 0.0, 'neu...|    USA|\n",
            "| 62|null|Fear will kill #C...| RobertPPurcell|norther New Jerse...|                ['']|{'neg': 0.798, 'n...|    USA|\n",
            "|228|null|This is a very co...|baskingntheGlow|       New York City|[('hourly', 'TIME')]|{'neg': 0.12, 'ne...|    USA|\n",
            "|238|null|I’m reposting thi...|   Veronicaromm|     New Jersey, USA|[('English', 'LAN...|{'neg': 0.0, 'neu...|    USA|\n",
            "+---+----+--------------------+---------------+--------------------+--------------------+--------------------+-------+\n",
            "only showing top 5 rows\n",
            "\n"
          ],
          "name": "stdout"
        }
      ]
    },
    {
      "cell_type": "code",
      "metadata": {
        "id": "g8i35Weslrx4"
      },
      "source": [
        "tw_filter_df = twitter_df.filter(col('location').startswith(\"N\"))"
      ],
      "execution_count": 27,
      "outputs": []
    },
    {
      "cell_type": "code",
      "metadata": {
        "colab": {
          "base_uri": "https://localhost:8080/"
        },
        "id": "hD69pU22l3b-",
        "outputId": "a2a32437-57fe-40cb-8047-9186459bc388"
      },
      "source": [
        "tw_filter_df.explain()"
      ],
      "execution_count": 28,
      "outputs": [
        {
          "output_type": "stream",
          "text": [
            "== Physical Plan ==\n",
            "*(1) Filter (isnotnull(location#146) AND StartsWith(location#146, N))\n",
            "+- FileScan csv [_c0#142,geo#143,text#144,user#145,location#146,entities#147,sentiment#148,country#149] Batched: false, DataFilters: [isnotnull(location#146), StartsWith(location#146, N)], Format: CSV, Location: InMemoryFileIndex[file:/tmp/twitter_data.csv], PartitionFilters: [], PushedFilters: [IsNotNull(location), StringStartsWith(location,N)], ReadSchema: struct<_c0:int,geo:string,text:string,user:string,location:string,entities:string,sentiment:strin...\n",
            "\n",
            "\n"
          ],
          "name": "stdout"
        }
      ]
    },
    {
      "cell_type": "code",
      "metadata": {
        "colab": {
          "base_uri": "https://localhost:8080/"
        },
        "id": "8Ri4CdWBl4xz",
        "outputId": "226da377-374e-4622-d3ce-64829eca8136"
      },
      "source": [
        "tw_filter_df.show()"
      ],
      "execution_count": 29,
      "outputs": [
        {
          "output_type": "stream",
          "text": [
            "+---+----+--------------------+---------------+--------------------+--------------------+--------------------+-------------+\n",
            "|_c0| geo|                text|           user|            location|            entities|           sentiment|      country|\n",
            "+---+----+--------------------+---------------+--------------------+--------------------+--------------------+-------------+\n",
            "|  3|null| Get ready for ma...|   InfectiousDz|                 NYC|[('World', 'ORG')...|{'neg': 0.085, 'n...|          USA|\n",
            "|  7|null| 📽️Friends, I wi...|        LorseaR|New South Wales, ...|[('Twitter', 'GPE...|{'neg': 0.123, 'n...|    Australia|\n",
            "| 31|null| I ordered Alex J...|       rcgillan|       New York, USA|[('Alex Jones', '...|{'neg': 0.109, 'n...|          USA|\n",
            "| 36|null| Before #coronavi...|   Frankapistan|       Nashville, TN|[('China', 'GPE')...|{'neg': 0.144, 'n...|          USA|\n",
            "| 49|null| This week we are...|  JamesWithers3|  New York, New York|[('This week', 'D...|{'neg': 0.0, 'neu...|          USA|\n",
            "| 66|null| I am very surpri...|MariosTsoutsouk| Nottingham, England|[('UK', 'GPE'), (...|{'neg': 0.0, 'neu...|           UK|\n",
            "| 79|null| Mr. Jones has be...|       star1965|                 NYC|[('Jones', 'PERSO...|{'neg': 0.0, 'neu...|          USA|\n",
            "|146|null| . launches rapid...|   JessPerry_NJ|                  NJ|['', ('Center for...|{'neg': 0.0, 'neu...|          USA|\n",
            "|163|null| WATCH: The Serbi...|NTexasRealtor4u|         North Texas|[('Serbian', 'NOR...|{'neg': 0.161, 'n...|          USA|\n",
            "|167|null|I dont think we a...|   PitLanePhoto|   Nantwich, England|[('Motorsport', '...|{'neg': 0.0, 'neu...|           UK|\n",
            "|168|null|But seriously I N...|    kuamiufresh|             Nigeria|[('China', 'GPE')...|{'neg': 0.09, 'ne...|      Nigeria|\n",
            "|198|null| This is how the ...|       WINTUR78|           New Delhi|[('Islamophobia',...|{'neg': 0.0, 'neu...|        India|\n",
            "|228|null|This is a very co...|baskingntheGlow|       New York City|[('hourly', 'TIME')]|{'neg': 0.12, 'ne...|          USA|\n",
            "|238|null|I’m reposting thi...|   Veronicaromm|     New Jersey, USA|[('English', 'LAN...|{'neg': 0.0, 'neu...|          USA|\n",
            "|250|null|  The Republican ...|CoronaVirusCall|       North America|[('Republican', '...|{'neg': 0.0, 'neu...|North America|\n",
            "|259|null| New deadly #coro...|TorqueyLunatico|     Not outer space|                ['']|{'neg': 0.236, 'n...|United States|\n",
            "|261|null|Too early ...?  #...|      HJeppesen|        New York, NY|                ['']|{'neg': 0.0, 'neu...|          USA|\n",
            "|275|null|  The Republican ...|  GenetBataiile|  New Hampshire, USA|[('Republican', '...|{'neg': 0.0, 'neu...|          USA|\n",
            "|284|null|Last beer tonight...| organictech551| Northern hemisphere|[('tonight', 'TIM...|{'neg': 0.0, 'neu...|          USA|\n",
            "|285|null| A question for y...| GlynnAtkinson1| North East, England|[('Boris Johnson'...|{'neg': 0.104, 'n...|        Error|\n",
            "+---+----+--------------------+---------------+--------------------+--------------------+--------------------+-------------+\n",
            "only showing top 20 rows\n",
            "\n"
          ],
          "name": "stdout"
        }
      ]
    },
    {
      "cell_type": "markdown",
      "metadata": {
        "id": "sp7FNEu0l6wf"
      },
      "source": [
        "![Transformation](https://drive.google.com/uc?id=1UWFKuyP-ZazKdccGphi7T78ukEW4VjfC)"
      ]
    },
    {
      "cell_type": "code",
      "metadata": {
        "colab": {
          "base_uri": "https://localhost:8080/"
        },
        "id": "1Uu0htRynTk4",
        "outputId": "883ade05-c8f4-4ba1-f300-6cbbe7cc5dc1"
      },
      "source": [
        "x = spark.sparkContext.parallelize([1,4,8])\n",
        "y = x.flatMap(lambda x: (x, x*x))\n",
        "print(x.collect())\n",
        "print(y.collect())"
      ],
      "execution_count": 30,
      "outputs": [
        {
          "output_type": "stream",
          "text": [
            "[1, 4, 8]\n",
            "[1, 1, 4, 16, 8, 64]\n"
          ],
          "name": "stdout"
        }
      ]
    },
    {
      "cell_type": "code",
      "metadata": {
        "colab": {
          "base_uri": "https://localhost:8080/"
        },
        "id": "tvd1jfC2qRCZ",
        "outputId": "15a9fff7-5e1a-4c74-bbc1-0f2ffd46a117"
      },
      "source": [
        "x = spark.sparkContext.parallelize([1,4,8])\n",
        "y = x.map(lambda x: (x, x*x))\n",
        "print(x.collect())\n",
        "print(y.collect())"
      ],
      "execution_count": 31,
      "outputs": [
        {
          "output_type": "stream",
          "text": [
            "[1, 4, 8]\n",
            "[(1, 1), (4, 16), (8, 64)]\n"
          ],
          "name": "stdout"
        }
      ]
    },
    {
      "cell_type": "code",
      "metadata": {
        "colab": {
          "base_uri": "https://localhost:8080/"
        },
        "id": "tPZNy4FFqVdR",
        "outputId": "b87630d9-c3a9-41d9-a268-1d9ff78917ea"
      },
      "source": [
        "twitter_df.select('text').show()"
      ],
      "execution_count": 32,
      "outputs": [
        {
          "output_type": "stream",
          "text": [
            "+--------------------+\n",
            "|                text|\n",
            "+--------------------+\n",
            "|What is God sayin...|\n",
            "|\"BREAKING: \"\"this...|\n",
            "| #Coronavirus tes...|\n",
            "| Get ready for ma...|\n",
            "| The #coronavirus...|\n",
            "| COVID-19 update ...|\n",
            "| It’s painful to ...|\n",
            "| 📽️Friends, I wi...|\n",
            "| Questions about ...|\n",
            "|How they’re deali...|\n",
            "| BREAKING: Democr...|\n",
            "| “If we close dow...|\n",
            "| I pity the poor ...|\n",
            "| We’re the heck w...|\n",
            "| I don't think sh...|\n",
            "| Well written, so...|\n",
            "| 1/2 CDC Director...|\n",
            "| In all seriousne...|\n",
            "| Wash your hands....|\n",
            "| #CoronaVirusCana...|\n",
            "+--------------------+\n",
            "only showing top 20 rows\n",
            "\n"
          ],
          "name": "stdout"
        }
      ]
    },
    {
      "cell_type": "code",
      "metadata": {
        "colab": {
          "base_uri": "https://localhost:8080/"
        },
        "id": "SayVDwGzqui8",
        "outputId": "4d82cc11-f839-4013-a634-5c9a329b3de9"
      },
      "source": [
        "## Tokenization on map\n",
        "twitter_df.rdd.map(lambda line: line.text.split(\" \")).take(5)"
      ],
      "execution_count": 33,
      "outputs": [
        {
          "output_type": "execute_result",
          "data": {
            "text/plain": [
              "[['What', 'is', 'God', 'saying', 'to', 'us', 'about', '#coronavirus', '?'],\n",
              " ['\"BREAKING:', '\"\"this', 'is', 'disappointing'],\n",
              " ['',\n",
              "  '#Coronavirus',\n",
              "  'testing',\n",
              "  'must',\n",
              "  'be',\n",
              "  'made',\n",
              "  'free',\n",
              "  'to',\n",
              "  'the',\n",
              "  'public',\n",
              "  'if',\n",
              "  'we',\n",
              "  'are',\n",
              "  'going',\n",
              "  'to',\n",
              "  'understand',\n",
              "  'the',\n",
              "  'scope',\n",
              "  'of',\n",
              "  'this',\n",
              "  'crisis.',\n",
              "  'Anything',\n",
              "  'le…'],\n",
              " ['',\n",
              "  'Get',\n",
              "  'ready',\n",
              "  'for',\n",
              "  'mass',\n",
              "  'event',\n",
              "  'crowd',\n",
              "  'cancellations',\n",
              "  'across',\n",
              "  'the',\n",
              "  'World',\n",
              "  'starting',\n",
              "  'this',\n",
              "  'weekend:',\n",
              "  'cricket',\n",
              "  'in',\n",
              "  '#Australia',\n",
              "  'in',\n",
              "  'empty',\n",
              "  'st…'],\n",
              " ['',\n",
              "  'The',\n",
              "  '#coronavirus',\n",
              "  'pandemic',\n",
              "  'is',\n",
              "  'revealing',\n",
              "  'just',\n",
              "  'how',\n",
              "  'closely',\n",
              "  'we',\n",
              "  'are',\n",
              "  'all',\n",
              "  'bound',\n",
              "  'together...[A',\n",
              "  'thread]',\n",
              "  '']]"
            ]
          },
          "metadata": {
            "tags": []
          },
          "execution_count": 33
        }
      ]
    },
    {
      "cell_type": "code",
      "metadata": {
        "colab": {
          "base_uri": "https://localhost:8080/"
        },
        "id": "7HJBJkt1rDgi",
        "outputId": "80714872-48f2-4654-d3d5-a6ffccf501a3"
      },
      "source": [
        "## Tokenization on Flatten map\n",
        "twitter_df.rdd.flatMap(lambda line: line.text.split(\" \")).take(50)"
      ],
      "execution_count": 35,
      "outputs": [
        {
          "output_type": "execute_result",
          "data": {
            "text/plain": [
              "['What',\n",
              " 'is',\n",
              " 'God',\n",
              " 'saying',\n",
              " 'to',\n",
              " 'us',\n",
              " 'about',\n",
              " '#coronavirus',\n",
              " '?',\n",
              " '\"BREAKING:',\n",
              " '\"\"this',\n",
              " 'is',\n",
              " 'disappointing',\n",
              " '',\n",
              " '#Coronavirus',\n",
              " 'testing',\n",
              " 'must',\n",
              " 'be',\n",
              " 'made',\n",
              " 'free',\n",
              " 'to',\n",
              " 'the',\n",
              " 'public',\n",
              " 'if',\n",
              " 'we',\n",
              " 'are',\n",
              " 'going',\n",
              " 'to',\n",
              " 'understand',\n",
              " 'the',\n",
              " 'scope',\n",
              " 'of',\n",
              " 'this',\n",
              " 'crisis.',\n",
              " 'Anything',\n",
              " 'le…',\n",
              " '',\n",
              " 'Get',\n",
              " 'ready',\n",
              " 'for',\n",
              " 'mass',\n",
              " 'event',\n",
              " 'crowd',\n",
              " 'cancellations',\n",
              " 'across',\n",
              " 'the',\n",
              " 'World',\n",
              " 'starting',\n",
              " 'this',\n",
              " 'weekend:']"
            ]
          },
          "metadata": {
            "tags": []
          },
          "execution_count": 35
        }
      ]
    },
    {
      "cell_type": "markdown",
      "metadata": {
        "id": "RwdaEmbFrJwR"
      },
      "source": [
        "## Corona Transformation"
      ]
    },
    {
      "cell_type": "code",
      "metadata": {
        "colab": {
          "base_uri": "https://localhost:8080/"
        },
        "id": "kMvw96Jerx6R",
        "outputId": "47b96d43-a790-4277-caba-04f1ebdd914b"
      },
      "source": [
        "corona_df.show()"
      ],
      "execution_count": 36,
      "outputs": [
        {
          "output_type": "stream",
          "text": [
            "+---+----------------+--------------------+--------+---------+----------+---------+-----+---------+--------------------+----+\n",
            "|_c0|           State|             Country|     Lat|     Long|      Date|Confirmed|Death|Recovered|       state_cleaned|City|\n",
            "+---+----------------+--------------------+--------+---------+----------+---------+-----+---------+--------------------+----+\n",
            "|  0|            null|            Thailand|    15.0|    101.0|2020-01-22|        2|    0|        0|             Bangkok|null|\n",
            "|  1|            null|               Japan|    36.0|    138.0|2020-01-22|        2|    0|        0|             Hiraide|null|\n",
            "|  2|            null|           Singapore|  1.2833| 103.8333|2020-01-22|        0|    0|        0|           Singapore|null|\n",
            "|  3|            null|               Nepal| 28.1667|    84.25|2020-01-22|        0|    0|        0|           Kathmandu|null|\n",
            "|  4|            null|            Malaysia|     2.5|    112.5|2020-01-22|        0|    0|        0|             Sarawak|null|\n",
            "|  5|British Columbia|              Canada| 49.2827|-123.1207|2020-01-22|        0|    0|        0|    British Columbia|null|\n",
            "|  6| New South Wales|           Australia|-33.8688| 151.2093|2020-01-22|        0|    0|        0|     New South Wales|null|\n",
            "|  7|        Victoria|           Australia|-37.8136| 144.9631|2020-01-22|        0|    0|        0|            Victoria|null|\n",
            "|  8|      Queensland|           Australia|-28.0167|    153.4|2020-01-22|        0|    0|        0|          Queensland|null|\n",
            "|  9|            null|            Cambodia|   11.55| 104.9167|2020-01-22|        0|    0|        0|          Phnom Penh|null|\n",
            "| 10|            null|           Sri Lanka|     7.0|     81.0|2020-01-22|        0|    0|        0|Sri Jayawardenapu...|null|\n",
            "| 11|            null|             Germany|    51.0|      9.0|2020-01-22|        0|    0|        0|              Berlin|null|\n",
            "| 12|            null|             Finland|    64.0|     26.0|2020-01-22|        0|    0|        0|            Helsinki|null|\n",
            "| 13|            null|United Arab Emirates|    24.0|     54.0|2020-01-22|        0|    0|        0|           Abu Dhabi|null|\n",
            "| 14|            null|         Philippines|    13.0|    122.0|2020-01-22|        0|    0|        0|              Manila|null|\n",
            "| 15|            null|               India|    21.0|     78.0|2020-01-22|        0|    0|        0|           New Delhi|null|\n",
            "| 16|            null|               Italy|    43.0|     12.0|2020-01-22|        0|    0|        0|                Rome|null|\n",
            "| 17|            null|              Sweden|    63.0|     16.0|2020-01-22|        0|    0|        0|           Stockholm|null|\n",
            "| 18|            null|               Spain|    40.0|     -4.0|2020-01-22|        0|    0|        0|              Toledo|null|\n",
            "| 19| South Australia|           Australia|-34.9285| 138.6007|2020-01-22|        0|    0|        0|     South Australia|null|\n",
            "+---+----------------+--------------------+--------+---------+----------+---------+-----+---------+--------------------+----+\n",
            "only showing top 20 rows\n",
            "\n"
          ],
          "name": "stdout"
        }
      ]
    },
    {
      "cell_type": "code",
      "metadata": {
        "colab": {
          "base_uri": "https://localhost:8080/"
        },
        "id": "CKWInYK0r23z",
        "outputId": "44a72054-1c76-4e56-98a5-6cafbfcd2bb2"
      },
      "source": [
        "corona_df.filter(\"Country='US'\").sort(col('Date'), ascending=False).show()"
      ],
      "execution_count": 38,
      "outputs": [
        {
          "output_type": "stream",
          "text": [
            "+-----+----------------+-------+------------------+---------+----------+---------+-----+---------+----------------+----------------+\n",
            "|  _c0|           State|Country|               Lat|     Long|      Date|Confirmed|Death|Recovered|   state_cleaned|            City|\n",
            "+-----+----------------+-------+------------------+---------+----------+---------+-----+---------+----------------+----------------+\n",
            "|27764|      Washington|     US|           47.4009|-121.4905|2020-03-20|     1524|   83|        0|      Washington|      Washington|\n",
            "|27784|         Arizona|     US|           33.7298|-111.4312|2020-03-20|       78|    0|        0|         Arizona|         Arizona|\n",
            "|27765|        New York|     US|           42.1657| -74.9481|2020-03-20|     8310|   42|        0|        New York|        New York|\n",
            "|27766|      California|     US|           36.1162|-119.6816|2020-03-20|     1177|   23|        0|      California|      California|\n",
            "|27767|   Massachusetts|     US|           42.2302| -71.5301|2020-03-20|      413|    1|        0|   Massachusetts|   Massachusetts|\n",
            "|27768|Diamond Princess|     US|           35.4437|  139.638|2020-03-20|       49|    0|        0|Diamond Princess|Diamond Princess|\n",
            "|27769|  Grand Princess|     US|           37.6489|-122.6655|2020-03-20|       23|    0|        0|  Grand Princess|  Grand Princess|\n",
            "|27770|         Georgia|     US|           33.0406| -83.6431|2020-03-20|      420|   13|        0|         Georgia|         Georgia|\n",
            "|27771|        Colorado|     US|           39.0598|-105.3111|2020-03-20|      363|    4|        0|        Colorado|        Colorado|\n",
            "|27772|         Florida|     US|           27.7663| -81.6868|2020-03-20|      563|   10|        0|         Florida|         Florida|\n",
            "|27773|      New Jersey|     US|           40.2989|  -74.521|2020-03-20|      890|   11|        0|      New Jersey|      New Jersey|\n",
            "|27774|          Oregon|     US|44.571999999999996|-122.0709|2020-03-20|      114|    3|        0|          Oregon|          Oregon|\n",
            "|27775|           Texas|     US|           31.0545| -97.5635|2020-03-20|      394|    5|        0|           Texas|           Texas|\n",
            "|27776|        Illinois|     US|           40.3495| -88.9861|2020-03-20|      585|    5|        0|        Illinois|        Illinois|\n",
            "|27777|    Pennsylvania|     US|           40.5908| -77.2098|2020-03-20|      303|    1|        0|    Pennsylvania|    Pennsylvania|\n",
            "|27778|            Iowa|     US|           42.0115| -93.2105|2020-03-20|       45|    0|        0|            Iowa|            Iowa|\n",
            "|27779|        Maryland|     US|           39.0639| -76.8021|2020-03-20|      149|    1|        0|        Maryland|        Maryland|\n",
            "|27780|  North Carolina|     US|           35.6301| -79.8064|2020-03-20|      172|    0|        0|  North Carolina|  North Carolina|\n",
            "|27781|  South Carolina|     US|           33.8569|  -80.945|2020-03-20|      126|    1|        0|  South Carolina|  South Carolina|\n",
            "|27782|       Tennessee|     US|           35.7478| -86.6923|2020-03-20|      233|    0|        0|       Tennessee|       Tennessee|\n",
            "+-----+----------------+-------+------------------+---------+----------+---------+-----+---------+----------------+----------------+\n",
            "only showing top 20 rows\n",
            "\n"
          ],
          "name": "stdout"
        }
      ]
    },
    {
      "cell_type": "code",
      "metadata": {
        "colab": {
          "base_uri": "https://localhost:8080/"
        },
        "id": "YbRDSy-5sPB5",
        "outputId": "f6c1c64a-a5ab-441a-8705-4067eb332a6f"
      },
      "source": [
        "## Pararelize Sort\n",
        "corona_df.filter(\"Country='US'\").sortWithinPartitions([col('Date'), col('Confirmed')], ascending=False).show()"
      ],
      "execution_count": 40,
      "outputs": [
        {
          "output_type": "stream",
          "text": [
            "+-----+--------------+-------+-------+---------+----------+---------+-----+---------+--------------+--------------+\n",
            "|  _c0|         State|Country|    Lat|     Long|      Date|Confirmed|Death|Recovered| state_cleaned|          City|\n",
            "+-----+--------------+-------+-------+---------+----------+---------+-----+---------+--------------+--------------+\n",
            "|27765|      New York|     US|42.1657| -74.9481|2020-03-20|     8310|   42|        0|      New York|      New York|\n",
            "|27764|    Washington|     US|47.4009|-121.4905|2020-03-20|     1524|   83|        0|    Washington|    Washington|\n",
            "|27766|    California|     US|36.1162|-119.6816|2020-03-20|     1177|   23|        0|    California|    California|\n",
            "|27773|    New Jersey|     US|40.2989|  -74.521|2020-03-20|      890|   11|        0|    New Jersey|    New Jersey|\n",
            "|27776|      Illinois|     US|40.3495| -88.9861|2020-03-20|      585|    5|        0|      Illinois|      Illinois|\n",
            "|27772|       Florida|     US|27.7663| -81.6868|2020-03-20|      563|   10|        0|       Florida|       Florida|\n",
            "|27812|      Michigan|     US|43.3266| -84.5361|2020-03-20|      552|    3|        0|      Michigan|      Michigan|\n",
            "|27804|     Louisiana|     US|31.1695| -91.8678|2020-03-20|      538|   14|        0|     Louisiana|     Louisiana|\n",
            "|27770|       Georgia|     US|33.0406| -83.6431|2020-03-20|      420|   13|        0|       Georgia|       Georgia|\n",
            "|27767| Massachusetts|     US|42.2302| -71.5301|2020-03-20|      413|    1|        0| Massachusetts| Massachusetts|\n",
            "|27775|         Texas|     US|31.0545| -97.5635|2020-03-20|      394|    5|        0|         Texas|         Texas|\n",
            "|27771|      Colorado|     US|39.0598|-105.3111|2020-03-20|      363|    4|        0|      Colorado|      Colorado|\n",
            "|27777|  Pennsylvania|     US|40.5908| -77.2098|2020-03-20|      303|    1|        0|  Pennsylvania|  Pennsylvania|\n",
            "|27782|     Tennessee|     US|35.7478| -86.6923|2020-03-20|      233|    0|        0|     Tennessee|     Tennessee|\n",
            "|27794|     Wisconsin|     US|44.2685| -89.6165|2020-03-20|      207|    3|        0|     Wisconsin|     Wisconsin|\n",
            "|27795|   Connecticut|     US|41.5978| -72.7554|2020-03-20|      194|    3|        0|   Connecticut|   Connecticut|\n",
            "|27792|          Ohio|     US|40.3888| -82.7649|2020-03-20|      173|    2|        0|          Ohio|          Ohio|\n",
            "|27780|North Carolina|     US|35.6301| -79.8064|2020-03-20|      172|    0|        0|North Carolina|North Carolina|\n",
            "|27779|      Maryland|     US|39.0639| -76.8021|2020-03-20|      149|    1|        0|      Maryland|      Maryland|\n",
            "|27781|South Carolina|     US|33.8569|  -80.945|2020-03-20|      126|    1|        0|South Carolina|South Carolina|\n",
            "+-----+--------------+-------+-------+---------+----------+---------+-----+---------+--------------+--------------+\n",
            "only showing top 20 rows\n",
            "\n"
          ],
          "name": "stdout"
        }
      ]
    },
    {
      "cell_type": "code",
      "metadata": {
        "colab": {
          "base_uri": "https://localhost:8080/"
        },
        "id": "MIImcPpis2jD",
        "outputId": "d7b56fb1-2766-49a2-9fb3-a90307179517"
      },
      "source": [
        "corona_df.describe().show()"
      ],
      "execution_count": 43,
      "outputs": [
        {
          "output_type": "stream",
          "text": [
            "+-------+-----------------+---------+-----------+------------------+------------------+----------+------------------+------------------+------------------+-------------+-----------+\n",
            "|summary|              _c0|    State|    Country|               Lat|              Long|      Date|         Confirmed|             Death|         Recovered|state_cleaned|       City|\n",
            "+-------+-----------------+---------+-----------+------------------+------------------+----------+------------------+------------------+------------------+-------------+-----------+\n",
            "|  count|            28143|    19116|      28143|             28143|             28143|     28143|             28143|             28143|             28143|        28143|      14573|\n",
            "|   mean|          14071.0|     null|       null|30.965553459118834|-34.57031257861667|      null|161.88245744945456| 5.494368048893153| 60.17290267562094|         null|       null|\n",
            "| stddev|8124.328649186959|     null|       null|19.365472826597646| 80.78375872452575|      null| 2519.847217725942|109.29475709869875|1346.6597829124426|         null|       null|\n",
            "|    min|                0|Adams, IN|Afghanistan|          -41.4545|         -157.8584|2020-01-22|                 0|                 0|                 0|    Abu Dhabi|      Adams|\n",
            "|    max|            28142| Zhejiang|   Zimbabwe|           71.7069|           178.065|2020-03-20|             67800|              4032|             58382|     erdészet|Yolo County|\n",
            "+-------+-----------------+---------+-----------+------------------+------------------+----------+------------------+------------------+------------------+-------------+-----------+\n",
            "\n"
          ],
          "name": "stdout"
        }
      ]
    },
    {
      "cell_type": "code",
      "metadata": {
        "colab": {
          "base_uri": "https://localhost:8080/"
        },
        "id": "N3IUMJLqEc0B",
        "outputId": "ac377591-b9d1-4a94-ef71-17be2570ae4d"
      },
      "source": [
        "corona_df.printSchema()"
      ],
      "execution_count": 44,
      "outputs": [
        {
          "output_type": "stream",
          "text": [
            "root\n",
            " |-- _c0: integer (nullable = true)\n",
            " |-- State: string (nullable = true)\n",
            " |-- Country: string (nullable = true)\n",
            " |-- Lat: double (nullable = true)\n",
            " |-- Long: double (nullable = true)\n",
            " |-- Date: string (nullable = true)\n",
            " |-- Confirmed: integer (nullable = true)\n",
            " |-- Death: integer (nullable = true)\n",
            " |-- Recovered: integer (nullable = true)\n",
            " |-- state_cleaned: string (nullable = true)\n",
            " |-- City: string (nullable = true)\n",
            "\n"
          ],
          "name": "stdout"
        }
      ]
    },
    {
      "cell_type": "code",
      "metadata": {
        "colab": {
          "base_uri": "https://localhost:8080/"
        },
        "id": "2PW3A59eEn2F",
        "outputId": "aa8fa318-034e-40d8-a6b6-a55cb7569f6b"
      },
      "source": [
        "corona_df.filter('Confirmed>10000').sort(col('Confirmed')).show()"
      ],
      "execution_count": 45,
      "outputs": [
        {
          "output_type": "stream",
          "text": [
            "+-----+------+-------+-------+--------+----------+---------+-----+---------+-------------+----+\n",
            "|  _c0| State|Country|    Lat|    Long|      Date|Confirmed|Death|Recovered|state_cleaned|City|\n",
            "+-----+------+-------+-------+--------+----------+---------+-----+---------+-------------+----+\n",
            "|24005|  null|   Iran|   32.0|    53.0|2020-03-12|    10075|  429|     2959|       Tehran|null|\n",
            "|22912|  null|  Italy|   43.0|    12.0|2020-03-10|    10149|  631|      724|         Rome|null|\n",
            "|27346|France| France|46.2276|  2.2137|2020-03-19|    10871|  243|       12|       France|null|\n",
            "| 5401| Hubei|  China|30.9756|112.2707|2020-02-02|    11177|  350|      295|        Hubei|null|\n",
            "|24482|  null|   Iran|   32.0|    53.0|2020-03-13|    11364|  514|     2959|       Tehran|null|\n",
            "|26253|  null|  Spain|   40.0|    -4.0|2020-03-17|    11748|  533|     1028|       Toledo|null|\n",
            "|26723|  null|Germany|   51.0|     9.0|2020-03-18|    12327|   28|      105|       Berlin|null|\n",
            "|23866|  null|  Italy|   43.0|    12.0|2020-03-12|    12462|  827|     1045|         Rome|null|\n",
            "|23389|  null|  Italy|   43.0|    12.0|2020-03-11|    12462|  827|     1045|         Rome|null|\n",
            "|27823|France| France|46.2276|  2.2137|2020-03-20|    12612|  450|       12|       France|null|\n",
            "|24959|  null|   Iran|   32.0|    53.0|2020-03-14|    12729|  611|     2959|       Tehran|null|\n",
            "| 5878| Hubei|  China|30.9756|112.2707|2020-02-03|    13522|  414|      386|        Hubei|null|\n",
            "|26730|  null|  Spain|   40.0|    -4.0|2020-03-18|    13910|  623|     1081|       Toledo|null|\n",
            "|25436|  null|   Iran|   32.0|    53.0|2020-03-15|    13938|  724|     4590|       Tehran|null|\n",
            "|25913|  null|   Iran|   32.0|    53.0|2020-03-16|    14991|  853|     4590|       Tehran|null|\n",
            "|27200|  null|Germany|   51.0|     9.0|2020-03-19|    15320|   44|      113|       Berlin|null|\n",
            "|26390|  null|   Iran|   32.0|    53.0|2020-03-17|    16169|  988|     5389|       Tehran|null|\n",
            "| 6355| Hubei|  China|30.9756|112.2707|2020-02-04|    16678|  479|      522|        Hubei|null|\n",
            "|26867|  null|   Iran|   32.0|    53.0|2020-03-18|    17361| 1135|     5389|       Tehran|null|\n",
            "|24343|  null|  Italy|   43.0|    12.0|2020-03-13|    17660| 1266|     1439|         Rome|null|\n",
            "+-----+------+-------+-------+--------+----------+---------+-----+---------+-------------+----+\n",
            "only showing top 20 rows\n",
            "\n"
          ],
          "name": "stdout"
        }
      ]
    },
    {
      "cell_type": "code",
      "metadata": {
        "colab": {
          "base_uri": "https://localhost:8080/"
        },
        "id": "Ow3Ub6keEtY0",
        "outputId": "df20cff5-ed1d-4b9d-ef73-afdc53c37e8e"
      },
      "source": [
        "corona_df.filter(\"Confirmed>10000\").approxQuantile('Confirmed', [0.25, 0.5, 0.75, 0.9, 0.95], 0.9)"
      ],
      "execution_count": 46,
      "outputs": [
        {
          "output_type": "execute_result",
          "data": {
            "text/plain": [
              "[10075.0, 10075.0, 10075.0, 10075.0, 67800.0]"
            ]
          },
          "metadata": {
            "tags": []
          },
          "execution_count": 46
        }
      ]
    },
    {
      "cell_type": "code",
      "metadata": {
        "colab": {
          "base_uri": "https://localhost:8080/"
        },
        "id": "5oB6H0uzFjkl",
        "outputId": "8bf131dd-28ef-4155-9074-9517c5e4bf7e"
      },
      "source": [
        "corona_df.agg({\"Date\":\"max\"}).collect()"
      ],
      "execution_count": 47,
      "outputs": [
        {
          "output_type": "execute_result",
          "data": {
            "text/plain": [
              "[Row(max(Date)='2020-03-20')]"
            ]
          },
          "metadata": {
            "tags": []
          },
          "execution_count": 47
        }
      ]
    },
    {
      "cell_type": "code",
      "metadata": {
        "colab": {
          "base_uri": "https://localhost:8080/"
        },
        "id": "4RzJg_IKFrUH",
        "outputId": "a9b8fa61-38d2-433a-c4e8-314bc322d8fc"
      },
      "source": [
        "corona_df.agg({\"Date\":\"max\",\"confirmed\":\"max\"}).collect()"
      ],
      "execution_count": 48,
      "outputs": [
        {
          "output_type": "execute_result",
          "data": {
            "text/plain": [
              "[Row(max(confirmed)=67800, max(Date)='2020-03-20')]"
            ]
          },
          "metadata": {
            "tags": []
          },
          "execution_count": 48
        }
      ]
    },
    {
      "cell_type": "code",
      "metadata": {
        "colab": {
          "base_uri": "https://localhost:8080/"
        },
        "id": "bl2FK00hGVge",
        "outputId": "cb3049e5-2a1e-4d4a-c26a-593db69c9aa6"
      },
      "source": [
        "max_date = corona_df.agg({\"Date\":\"max\"})\n",
        "max_date.show()"
      ],
      "execution_count": 49,
      "outputs": [
        {
          "output_type": "stream",
          "text": [
            "+----------+\n",
            "| max(Date)|\n",
            "+----------+\n",
            "|2020-03-20|\n",
            "+----------+\n",
            "\n"
          ],
          "name": "stdout"
        }
      ]
    },
    {
      "cell_type": "code",
      "metadata": {
        "colab": {
          "base_uri": "https://localhost:8080/"
        },
        "id": "t1UnreRTGkdf",
        "outputId": "dc38ff9b-5bb4-4af2-9be2-ab518805bde8"
      },
      "source": [
        "import pyspark.sql.functions as F\n",
        "corona_df.groupBy(\"Country\", \"State_cleaned\").agg(F.max(\"Date\")).show()"
      ],
      "execution_count": 53,
      "outputs": [
        {
          "output_type": "stream",
          "text": [
            "+--------------+--------------------+----------+\n",
            "|       Country|       State_cleaned| max(Date)|\n",
            "+--------------+--------------------+----------+\n",
            "|      Cameroon|             Yaounde|2020-03-20|\n",
            "|         China|             Qinghai|2020-03-20|\n",
            "|        Cyprus|             Nicosia|2020-03-20|\n",
            "|            US|            Michigan|2020-03-20|\n",
            "|      Portugal|              Lisbon|2020-03-20|\n",
            "|            US|            Colorado|2020-03-20|\n",
            "|United Kingdom|      Cayman Islands|2020-03-20|\n",
            "|         China|              Hainan|2020-03-20|\n",
            "|            US|            Missouri|2020-03-20|\n",
            "|     Australia|Australian Capita...|2020-03-20|\n",
            "|            US|                Guam|2020-03-20|\n",
            "|        France|             Reunion|2020-03-20|\n",
            "|      Colombia|        Cundinamarca|2020-03-20|\n",
            "|          Cuba|              Havana|2020-03-20|\n",
            "|     Mauritius|          Port Louis|2020-03-20|\n",
            "|       Ukraine|                Kiev|2020-03-20|\n",
            "|         Benin|          Porto-Novo|2020-03-20|\n",
            "|   Switzerland|                Bern|2020-03-20|\n",
            "|         Malta|               Mgarr|2020-03-20|\n",
            "|United Kingdom|         Isle of Man|2020-03-20|\n",
            "+--------------+--------------------+----------+\n",
            "only showing top 20 rows\n",
            "\n"
          ],
          "name": "stdout"
        }
      ]
    },
    {
      "cell_type": "code",
      "metadata": {
        "colab": {
          "base_uri": "https://localhost:8080/"
        },
        "id": "fCwBVVcJHdO3",
        "outputId": "6b0fba90-8f3b-4826-8cdc-c14327887592"
      },
      "source": [
        "corona_df.join(corona_df.groupBy(\"Country\",\"State_cleaned\").agg(F.max(\"Date\").alias(\"Date\")),on=['Country', 'State_cleaned','Date'],how=\"inner\").show()"
      ],
      "execution_count": 54,
      "outputs": [
        {
          "output_type": "stream",
          "text": [
            "+--------------------+--------------------+----------+-----+----------------+--------+---------+---------+-----+---------+----+\n",
            "|             Country|       state_cleaned|      Date|  _c0|           State|     Lat|     Long|Confirmed|Death|Recovered|City|\n",
            "+--------------------+--------------------+----------+-----+----------------+--------+---------+---------+-----+---------+----+\n",
            "|            Thailand|             Bangkok|2020-03-20|27666|            null|    15.0|    101.0|      322|    1|       42|null|\n",
            "|               Japan|             Hiraide|2020-03-20|27667|            null|    36.0|    138.0|      963|   33|      191|null|\n",
            "|           Singapore|           Singapore|2020-03-20|27668|            null|  1.2833| 103.8333|      385|    0|      124|null|\n",
            "|               Nepal|           Kathmandu|2020-03-20|27669|            null| 28.1667|    84.25|        1|    0|        1|null|\n",
            "|            Malaysia|             Sarawak|2020-03-20|27670|            null|     2.5|    112.5|     1030|    3|       87|null|\n",
            "|              Canada|    British Columbia|2020-03-20|27671|British Columbia| 49.2827|-123.1207|      271|    8|        4|null|\n",
            "|           Australia|     New South Wales|2020-03-20|27672| New South Wales|-33.8688| 151.2093|      353|    6|        4|null|\n",
            "|           Australia|            Victoria|2020-03-20|27673|        Victoria|-37.8136| 144.9631|      121|    0|        8|null|\n",
            "|           Australia|          Queensland|2020-03-20|27674|      Queensland|-28.0167|    153.4|      184|    0|        8|null|\n",
            "|            Cambodia|          Phnom Penh|2020-03-20|27675|            null|   11.55| 104.9167|       51|    0|        1|null|\n",
            "|           Sri Lanka|Sri Jayawardenapu...|2020-03-20|27676|            null|     7.0|     81.0|       73|    0|        3|null|\n",
            "|             Germany|              Berlin|2020-03-20|27677|            null|    51.0|      9.0|    19848|   67|      180|null|\n",
            "|             Finland|            Helsinki|2020-03-20|27678|            null|    64.0|     26.0|      450|    0|       10|null|\n",
            "|United Arab Emirates|           Abu Dhabi|2020-03-20|27679|            null|    24.0|     54.0|      140|    2|       31|null|\n",
            "|         Philippines|              Manila|2020-03-20|27680|            null|    13.0|    122.0|      230|   18|        8|null|\n",
            "|               India|           New Delhi|2020-03-20|27681|            null|    21.0|     78.0|      244|    5|       20|null|\n",
            "|               Italy|                Rome|2020-03-20|27682|            null|    43.0|     12.0|    47021| 4032|     4440|null|\n",
            "|              Sweden|           Stockholm|2020-03-20|27683|            null|    63.0|     16.0|     1639|   16|       16|null|\n",
            "|               Spain|              Toledo|2020-03-20|27684|            null|    40.0|     -4.0|    20410| 1043|     1588|null|\n",
            "|           Australia|     South Australia|2020-03-20|27685| South Australia|-34.9285| 138.6007|       50|    0|        3|null|\n",
            "+--------------------+--------------------+----------+-----+----------------+--------+---------+---------+-----+---------+----+\n",
            "only showing top 20 rows\n",
            "\n"
          ],
          "name": "stdout"
        }
      ]
    },
    {
      "cell_type": "code",
      "metadata": {
        "colab": {
          "base_uri": "https://localhost:8080/"
        },
        "id": "S6ZsA4aDM17g",
        "outputId": "5d20017c-55ed-487d-9b04-42018ee72e36"
      },
      "source": [
        "from pyspark.sql.functions import row_number\n",
        "from pyspark.sql.window import Window\n",
        "\n",
        "ws = Window().partitionBy(\"Country\",\"State_cleaned\").orderBy(col(\"Date\").desc())\n",
        "\n",
        "corona_df.withColumn(\"row_num\", row_number().over(ws)).show()"
      ],
      "execution_count": 78,
      "outputs": [
        {
          "output_type": "stream",
          "text": [
            "+-----+-----+--------+------------------+-------+----------+---------+-----+---------+-------------+----+-------+\n",
            "|  _c0|State| Country|               Lat|   Long|      Date|Confirmed|Death|Recovered|state_cleaned|City|row_num|\n",
            "+-----+-----+--------+------------------+-------+----------+---------+-----+---------+-------------+----+-------+\n",
            "|27745| null|Cameroon|3.8480000000000003|11.5021|2020-03-20|       20|    0|        0|      Yaounde|null|      1|\n",
            "|27268| null|Cameroon|3.8480000000000003|11.5021|2020-03-19|       13|    0|        0|      Yaounde|null|      2|\n",
            "|26791| null|Cameroon|3.8480000000000003|11.5021|2020-03-18|       10|    0|        0|      Yaounde|null|      3|\n",
            "|26314| null|Cameroon|3.8480000000000003|11.5021|2020-03-17|       10|    0|        0|      Yaounde|null|      4|\n",
            "|25837| null|Cameroon|3.8480000000000003|11.5021|2020-03-16|        4|    0|        0|      Yaounde|null|      5|\n",
            "|25360| null|Cameroon|3.8480000000000003|11.5021|2020-03-15|        2|    0|        0|      Yaounde|null|      6|\n",
            "|24883| null|Cameroon|3.8480000000000003|11.5021|2020-03-14|        2|    0|        0|      Yaounde|null|      7|\n",
            "|24406| null|Cameroon|3.8480000000000003|11.5021|2020-03-13|        2|    0|        0|      Yaounde|null|      8|\n",
            "|23929| null|Cameroon|3.8480000000000003|11.5021|2020-03-12|        2|    0|        0|      Yaounde|null|      9|\n",
            "|23452| null|Cameroon|3.8480000000000003|11.5021|2020-03-11|        2|    0|        0|      Yaounde|null|     10|\n",
            "|22975| null|Cameroon|3.8480000000000003|11.5021|2020-03-10|        2|    0|        0|      Yaounde|null|     11|\n",
            "|22498| null|Cameroon|3.8480000000000003|11.5021|2020-03-09|        2|    0|        0|      Yaounde|null|     12|\n",
            "|22021| null|Cameroon|3.8480000000000003|11.5021|2020-03-08|        2|    0|        0|      Yaounde|null|     13|\n",
            "|21544| null|Cameroon|3.8480000000000003|11.5021|2020-03-07|        1|    0|        0|      Yaounde|null|     14|\n",
            "|21067| null|Cameroon|3.8480000000000003|11.5021|2020-03-06|        1|    0|        0|      Yaounde|null|     15|\n",
            "|20590| null|Cameroon|3.8480000000000003|11.5021|2020-03-05|        0|    0|        0|      Yaounde|null|     16|\n",
            "|20113| null|Cameroon|3.8480000000000003|11.5021|2020-03-04|        0|    0|        0|      Yaounde|null|     17|\n",
            "|19636| null|Cameroon|3.8480000000000003|11.5021|2020-03-03|        0|    0|        0|      Yaounde|null|     18|\n",
            "|19159| null|Cameroon|3.8480000000000003|11.5021|2020-03-02|        0|    0|        0|      Yaounde|null|     19|\n",
            "|18682| null|Cameroon|3.8480000000000003|11.5021|2020-03-01|        0|    0|        0|      Yaounde|null|     20|\n",
            "+-----+-----+--------+------------------+-------+----------+---------+-----+---------+-------------+----+-------+\n",
            "only showing top 20 rows\n",
            "\n"
          ],
          "name": "stdout"
        }
      ]
    },
    {
      "cell_type": "code",
      "metadata": {
        "colab": {
          "base_uri": "https://localhost:8080/"
        },
        "id": "KK6NNhIfM5ir",
        "outputId": "dbfee9dc-8ec4-4b3b-dee4-60ea9528d91d"
      },
      "source": [
        "corona_df.withColumn(\"row_num\", row_number().over(ws)).where(col(\"row_num\")==1).show()"
      ],
      "execution_count": 79,
      "outputs": [
        {
          "output_type": "stream",
          "text": [
            "+-----+--------------------+--------------+------------------+---------+----------+---------+-----+---------+--------------------+--------+-------+\n",
            "|  _c0|               State|       Country|               Lat|     Long|      Date|Confirmed|Death|Recovered|       state_cleaned|    City|row_num|\n",
            "+-----+--------------------+--------------+------------------+---------+----------+---------+-----+---------+--------------------+--------+-------+\n",
            "|27745|                null|      Cameroon|3.8480000000000003|  11.5021|2020-03-20|       20|    0|        0|             Yaounde|    null|      1|\n",
            "|27859|             Qinghai|         China|           35.7452|  95.9956|2020-03-20|       18|    0|       18|             Qinghai|    null|      1|\n",
            "|27762|                null|        Cyprus|           35.1264|  33.4299|2020-03-20|       67|    0|        0|             Nicosia|    null|      1|\n",
            "|27812|            Michigan|            US|           43.3266| -84.5361|2020-03-20|      552|    3|        0|            Michigan|Michigan|      1|\n",
            "|27725|                null|      Portugal|           39.3999|  -8.2245|2020-03-20|     1020|    6|        5|              Lisbon|    null|      1|\n",
            "|27771|            Colorado|            US|           39.0598|-105.3111|2020-03-20|      363|    4|        0|            Colorado|Colorado|      1|\n",
            "|28115|      Cayman Islands|United Kingdom|           19.3133| -81.2546|2020-03-20|        3|    1|        0|      Cayman Islands|    null|      1|\n",
            "|27844|              Hainan|         China|           19.1959| 109.7453|2020-03-20|      168|    6|      161|              Hainan|    null|      1|\n",
            "|27805|            Missouri|            US|           38.4561| -92.2884|2020-03-20|       53|    2|        0|            Missouri|Missouri|      1|\n",
            "|28068|Australian Capita...|     Australia|          -35.4735| 149.0124|2020-03-20|        6|    0|        0|Australian Capita...|    null|      1|\n",
            "|28097|                Guam|            US|           13.4443| 144.7937|2020-03-20|       14|    0|        0|                Guam|    Guam|      1|\n",
            "|28116|             Reunion|        France|          -21.1351|  55.2471|2020-03-20|       28|    0|        0|             Reunion|    null|      1|\n",
            "|27746|                null|      Colombia|            4.5709| -74.2973|2020-03-20|      128|    0|        1|        Cundinamarca|    null|      1|\n",
            "|28066|                null|          Cuba|              22.0|    -80.0|2020-03-20|       16|    1|        0|              Havana|    null|      1|\n",
            "|28120|                null|     Mauritius|             -20.2|     57.5|2020-03-20|       12|    0|        0|          Port Louis|    null|      1|\n",
            "|27735|                null|       Ukraine|           48.3794|  31.1656|2020-03-20|       29|    3|        0|                Kiev|    null|      1|\n",
            "|28109|                null|         Benin|            9.3077|   2.3158|2020-03-20|        2|    0|        0|          Porto-Novo|    null|      1|\n",
            "|27697|                null|   Switzerland|           46.8182|   8.2275|2020-03-20|     5294|   54|       15|                Bern|    null|      1|\n",
            "|27752|                null|         Malta|           35.9375|  14.3754|2020-03-20|       64|    0|        2|               Mgarr|    null|      1|\n",
            "|28141|         Isle of Man|United Kingdom|           54.2361|  -4.5481|2020-03-20|        1|    0|        0|         Isle of Man|    null|      1|\n",
            "+-----+--------------------+--------------+------------------+---------+----------+---------+-----+---------+--------------------+--------+-------+\n",
            "only showing top 20 rows\n",
            "\n"
          ],
          "name": "stdout"
        }
      ]
    },
    {
      "cell_type": "code",
      "metadata": {
        "colab": {
          "base_uri": "https://localhost:8080/"
        },
        "id": "lrcCBjQFIccJ",
        "outputId": "771d46c4-643e-40d8-ee1c-f2c01fd97724"
      },
      "source": [
        "corona_max_df = corona_df.join(corona_df.groupBy(\"Country\",\"State_cleaned\").agg(F.max(\"Date\").alias(\"Date\")),on=['Country', 'State_cleaned','Date'],how=\"inner\")\n",
        "corona_max_df.show()"
      ],
      "execution_count": 56,
      "outputs": [
        {
          "output_type": "stream",
          "text": [
            "+--------------------+--------------------+----------+-----+----------------+--------+---------+---------+-----+---------+----+\n",
            "|             Country|       state_cleaned|      Date|  _c0|           State|     Lat|     Long|Confirmed|Death|Recovered|City|\n",
            "+--------------------+--------------------+----------+-----+----------------+--------+---------+---------+-----+---------+----+\n",
            "|            Thailand|             Bangkok|2020-03-20|27666|            null|    15.0|    101.0|      322|    1|       42|null|\n",
            "|               Japan|             Hiraide|2020-03-20|27667|            null|    36.0|    138.0|      963|   33|      191|null|\n",
            "|           Singapore|           Singapore|2020-03-20|27668|            null|  1.2833| 103.8333|      385|    0|      124|null|\n",
            "|               Nepal|           Kathmandu|2020-03-20|27669|            null| 28.1667|    84.25|        1|    0|        1|null|\n",
            "|            Malaysia|             Sarawak|2020-03-20|27670|            null|     2.5|    112.5|     1030|    3|       87|null|\n",
            "|              Canada|    British Columbia|2020-03-20|27671|British Columbia| 49.2827|-123.1207|      271|    8|        4|null|\n",
            "|           Australia|     New South Wales|2020-03-20|27672| New South Wales|-33.8688| 151.2093|      353|    6|        4|null|\n",
            "|           Australia|            Victoria|2020-03-20|27673|        Victoria|-37.8136| 144.9631|      121|    0|        8|null|\n",
            "|           Australia|          Queensland|2020-03-20|27674|      Queensland|-28.0167|    153.4|      184|    0|        8|null|\n",
            "|            Cambodia|          Phnom Penh|2020-03-20|27675|            null|   11.55| 104.9167|       51|    0|        1|null|\n",
            "|           Sri Lanka|Sri Jayawardenapu...|2020-03-20|27676|            null|     7.0|     81.0|       73|    0|        3|null|\n",
            "|             Germany|              Berlin|2020-03-20|27677|            null|    51.0|      9.0|    19848|   67|      180|null|\n",
            "|             Finland|            Helsinki|2020-03-20|27678|            null|    64.0|     26.0|      450|    0|       10|null|\n",
            "|United Arab Emirates|           Abu Dhabi|2020-03-20|27679|            null|    24.0|     54.0|      140|    2|       31|null|\n",
            "|         Philippines|              Manila|2020-03-20|27680|            null|    13.0|    122.0|      230|   18|        8|null|\n",
            "|               India|           New Delhi|2020-03-20|27681|            null|    21.0|     78.0|      244|    5|       20|null|\n",
            "|               Italy|                Rome|2020-03-20|27682|            null|    43.0|     12.0|    47021| 4032|     4440|null|\n",
            "|              Sweden|           Stockholm|2020-03-20|27683|            null|    63.0|     16.0|     1639|   16|       16|null|\n",
            "|               Spain|              Toledo|2020-03-20|27684|            null|    40.0|     -4.0|    20410| 1043|     1588|null|\n",
            "|           Australia|     South Australia|2020-03-20|27685| South Australia|-34.9285| 138.6007|       50|    0|        3|null|\n",
            "+--------------------+--------------------+----------+-----+----------------+--------+---------+---------+-----+---------+----+\n",
            "only showing top 20 rows\n",
            "\n"
          ],
          "name": "stdout"
        }
      ]
    },
    {
      "cell_type": "code",
      "metadata": {
        "colab": {
          "base_uri": "https://localhost:8080/"
        },
        "id": "AMaZoHkzJDtr",
        "outputId": "f3ba1cab-711b-4ac5-b68e-5ac3c418f090"
      },
      "source": [
        "corona_df.groupby(\"Country\").pivot(\"Date\").agg(F.sum(\"Confirmed\")).show()"
      ],
      "execution_count": 57,
      "outputs": [
        {
          "output_type": "stream",
          "text": [
            "+-----------+----------+----------+----------+----------+----------+----------+----------+----------+----------+----------+----------+----------+----------+----------+----------+----------+----------+----------+----------+----------+----------+----------+----------+----------+----------+----------+----------+----------+----------+----------+----------+----------+----------+----------+----------+----------+----------+----------+----------+----------+----------+----------+----------+----------+----------+----------+----------+----------+----------+----------+----------+----------+----------+----------+----------+----------+----------+----------+----------+\n",
            "|    Country|2020-01-22|2020-01-23|2020-01-24|2020-01-25|2020-01-26|2020-01-27|2020-01-28|2020-01-29|2020-01-30|2020-01-31|2020-02-01|2020-02-02|2020-02-03|2020-02-04|2020-02-05|2020-02-06|2020-02-07|2020-02-08|2020-02-09|2020-02-10|2020-02-11|2020-02-12|2020-02-13|2020-02-14|2020-02-15|2020-02-16|2020-02-17|2020-02-18|2020-02-19|2020-02-20|2020-02-21|2020-02-22|2020-02-23|2020-02-24|2020-02-25|2020-02-26|2020-02-27|2020-02-28|2020-02-29|2020-03-01|2020-03-02|2020-03-03|2020-03-04|2020-03-05|2020-03-06|2020-03-07|2020-03-08|2020-03-09|2020-03-10|2020-03-11|2020-03-12|2020-03-13|2020-03-14|2020-03-15|2020-03-16|2020-03-17|2020-03-18|2020-03-19|2020-03-20|\n",
            "+-----------+----------+----------+----------+----------+----------+----------+----------+----------+----------+----------+----------+----------+----------+----------+----------+----------+----------+----------+----------+----------+----------+----------+----------+----------+----------+----------+----------+----------+----------+----------+----------+----------+----------+----------+----------+----------+----------+----------+----------+----------+----------+----------+----------+----------+----------+----------+----------+----------+----------+----------+----------+----------+----------+----------+----------+----------+----------+----------+----------+\n",
            "|       Chad|         0|         0|         0|         0|         0|         0|         0|         0|         0|         0|         0|         0|         0|         0|         0|         0|         0|         0|         0|         0|         0|         0|         0|         0|         0|         0|         0|         0|         0|         0|         0|         0|         0|         0|         0|         0|         0|         0|         0|         0|         0|         0|         0|         0|         0|         0|         0|         0|         0|         0|         0|         0|         0|         0|         0|         0|         0|         1|         1|\n",
            "|     Russia|         0|         0|         0|         0|         0|         0|         0|         0|         0|         2|         2|         2|         2|         2|         2|         2|         2|         2|         2|         2|         2|         2|         2|         2|         2|         2|         2|         2|         2|         2|         2|         2|         2|         2|         2|         2|         2|         2|         2|         2|         3|         3|         3|         4|        13|        13|        17|        17|        20|        20|        28|        45|        59|        63|        90|       114|       147|       199|       253|\n",
            "|   Paraguay|         0|         0|         0|         0|         0|         0|         0|         0|         0|         0|         0|         0|         0|         0|         0|         0|         0|         0|         0|         0|         0|         0|         0|         0|         0|         0|         0|         0|         0|         0|         0|         0|         0|         0|         0|         0|         0|         0|         0|         0|         0|         0|         0|         0|         0|         0|         1|         1|         1|         5|         5|         6|         6|         6|         8|         9|        11|        11|        13|\n",
            "|    Senegal|         0|         0|         0|         0|         0|         0|         0|         0|         0|         0|         0|         0|         0|         0|         0|         0|         0|         0|         0|         0|         0|         0|         0|         0|         0|         0|         0|         0|         0|         0|         0|         0|         0|         0|         0|         0|         0|         0|         0|         0|         1|         2|         4|         4|         4|         4|         4|         4|         4|         4|         4|        10|        10|        24|        24|        26|        31|        31|        38|\n",
            "| Cabo Verde|         0|         0|         0|         0|         0|         0|         0|         0|         0|         0|         0|         0|         0|         0|         0|         0|         0|         0|         0|         0|         0|         0|         0|         0|         0|         0|         0|         0|         0|         0|         0|         0|         0|         0|         0|         0|         0|         0|         0|         0|         0|         0|         0|         0|         0|         0|         0|         0|         0|         0|         0|         0|         0|         0|         0|         0|         0|         0|         1|\n",
            "|     Sweden|         0|         0|         0|         0|         0|         0|         0|         0|         0|         1|         1|         1|         1|         1|         1|         1|         1|         1|         1|         1|         1|         1|         1|         1|         1|         1|         1|         1|         1|         1|         1|         1|         1|         1|         1|         2|         7|         7|        12|        14|        15|        21|        35|        94|       101|       161|       203|       248|       355|       500|       599|       814|       961|      1022|      1103|      1190|      1279|      1439|      1639|\n",
            "|     Guyana|         0|         0|         0|         0|         0|         0|         0|         0|         0|         0|         0|         0|         0|         0|         0|         0|         0|         0|         0|         0|         0|         0|         0|         0|         0|         0|         0|         0|         0|         0|         0|         0|         0|         0|         0|         0|         0|         0|         0|         0|         0|         0|         0|         0|         0|         0|         0|         0|         0|         0|         1|         1|         1|         4|         4|         7|         7|         7|         7|\n",
            "|Philippines|         0|         0|         0|         0|         0|         0|         0|         0|         1|         1|         1|         2|         2|         2|         2|         2|         3|         3|         3|         3|         3|         3|         3|         3|         3|         3|         3|         3|         3|         3|         3|         3|         3|         3|         3|         3|         3|         3|         3|         3|         3|         3|         3|         3|         5|         6|        10|        20|        33|        49|        52|        64|       111|       140|       142|       187|       202|       217|       230|\n",
            "|   Djibouti|         0|         0|         0|         0|         0|         0|         0|         0|         0|         0|         0|         0|         0|         0|         0|         0|         0|         0|         0|         0|         0|         0|         0|         0|         0|         0|         0|         0|         0|         0|         0|         0|         0|         0|         0|         0|         0|         0|         0|         0|         0|         0|         0|         0|         0|         0|         0|         0|         0|         0|         0|         0|         0|         0|         0|         0|         1|         1|         1|\n",
            "|  Singapore|         0|         1|         3|         3|         4|         5|         7|         7|        10|        13|        16|        18|        18|        24|        28|        28|        30|        33|        40|        45|        47|        50|        58|        67|        72|        75|        77|        81|        84|        84|        85|        85|        89|        89|        91|        93|        93|        93|       102|       106|       108|       110|       110|       117|       130|       138|       150|       150|       160|       178|       178|       200|       212|       226|       243|       266|       313|       345|       385|\n",
            "|   Malaysia|         0|         0|         0|         3|         4|         4|         4|         7|         8|         8|         8|         8|         8|        10|        12|        12|        12|        16|        16|        18|        18|        18|        19|        19|        22|        22|        22|        22|        22|        22|        22|        22|        22|        22|        22|        22|        23|        23|        25|        29|        29|        36|        50|        50|        83|        93|        99|       117|       129|       149|       149|       197|       238|       428|       566|       673|       790|       900|      1030|\n",
            "|       Fiji|         0|         0|         0|         0|         0|         0|         0|         0|         0|         0|         0|         0|         0|         0|         0|         0|         0|         0|         0|         0|         0|         0|         0|         0|         0|         0|         0|         0|         0|         0|         0|         0|         0|         0|         0|         0|         0|         0|         0|         0|         0|         0|         0|         0|         0|         0|         0|         0|         0|         0|         0|         0|         0|         0|         0|         0|         0|         1|         1|\n",
            "|     Turkey|         0|         0|         0|         0|         0|         0|         0|         0|         0|         0|         0|         0|         0|         0|         0|         0|         0|         0|         0|         0|         0|         0|         0|         0|         0|         0|         0|         0|         0|         0|         0|         0|         0|         0|         0|         0|         0|         0|         0|         0|         0|         0|         0|         0|         0|         0|         0|         0|         0|         1|         1|         5|         5|         6|        18|        47|        98|       192|       359|\n",
            "|       Iraq|         0|         0|         0|         0|         0|         0|         0|         0|         0|         0|         0|         0|         0|         0|         0|         0|         0|         0|         0|         0|         0|         0|         0|         0|         0|         0|         0|         0|         0|         0|         0|         0|         0|         1|         1|         5|         7|         7|        13|        19|        26|        32|        35|        35|        40|        54|        60|        60|        71|        71|        71|       101|       110|       116|       124|       154|       164|       192|       208|\n",
            "|    Germany|         0|         0|         0|         0|         0|         1|         4|         4|         4|         5|         8|        10|        12|        12|        12|        12|        13|        13|        14|        14|        16|        16|        16|        16|        16|        16|        16|        16|        16|        16|        16|        16|        16|        16|        17|        27|        46|        48|        79|       130|       159|       196|       262|       482|       670|       799|      1040|      1176|      1457|      1908|      2078|      3675|      4585|      5795|      7272|      9257|     12327|     15320|     19848|\n",
            "|   Cambodia|         0|         0|         0|         0|         0|         1|         1|         1|         1|         1|         1|         1|         1|         1|         1|         1|         1|         1|         1|         1|         1|         1|         1|         1|         1|         1|         1|         1|         1|         1|         1|         1|         1|         1|         1|         1|         1|         1|         1|         1|         1|         1|         1|         1|         1|         1|         2|         2|         2|         3|         3|         5|         7|         7|         7|        33|        35|        37|        51|\n",
            "|Afghanistan|         0|         0|         0|         0|         0|         0|         0|         0|         0|         0|         0|         0|         0|         0|         0|         0|         0|         0|         0|         0|         0|         0|         0|         0|         0|         0|         0|         0|         0|         0|         0|         0|         0|         1|         1|         1|         1|         1|         1|         1|         1|         1|         1|         1|         1|         1|         4|         4|         5|         7|         7|         7|        11|        16|        21|        22|        22|        22|        24|\n",
            "|     Jordan|         0|         0|         0|         0|         0|         0|         0|         0|         0|         0|         0|         0|         0|         0|         0|         0|         0|         0|         0|         0|         0|         0|         0|         0|         0|         0|         0|         0|         0|         0|         0|         0|         0|         0|         0|         0|         0|         0|         0|         0|         0|         1|         1|         1|         1|         1|         1|         1|         1|         1|         1|         1|         1|         8|        17|        34|        52|        69|        85|\n",
            "|     Rwanda|         0|         0|         0|         0|         0|         0|         0|         0|         0|         0|         0|         0|         0|         0|         0|         0|         0|         0|         0|         0|         0|         0|         0|         0|         0|         0|         0|         0|         0|         0|         0|         0|         0|         0|         0|         0|         0|         0|         0|         0|         0|         0|         0|         0|         0|         0|         0|         0|         0|         0|         0|         0|         1|         1|         5|         7|         8|         8|        17|\n",
            "|   Maldives|         0|         0|         0|         0|         0|         0|         0|         0|         0|         0|         0|         0|         0|         0|         0|         0|         0|         0|         0|         0|         0|         0|         0|         0|         0|         0|         0|         0|         0|         0|         0|         0|         0|         0|         0|         0|         0|         0|         0|         0|         0|         0|         0|         0|         0|         0|         4|         4|         6|         8|         8|         9|        10|        13|        13|        13|        13|        13|        13|\n",
            "+-----------+----------+----------+----------+----------+----------+----------+----------+----------+----------+----------+----------+----------+----------+----------+----------+----------+----------+----------+----------+----------+----------+----------+----------+----------+----------+----------+----------+----------+----------+----------+----------+----------+----------+----------+----------+----------+----------+----------+----------+----------+----------+----------+----------+----------+----------+----------+----------+----------+----------+----------+----------+----------+----------+----------+----------+----------+----------+----------+----------+\n",
            "only showing top 20 rows\n",
            "\n"
          ],
          "name": "stdout"
        }
      ]
    },
    {
      "cell_type": "code",
      "metadata": {
        "colab": {
          "base_uri": "https://localhost:8080/"
        },
        "id": "T8gJLn8VJaI5",
        "outputId": "ea3c008a-e8a9-414e-f1b2-5a857c8807f1"
      },
      "source": [
        "corona_df.filter(\"Country=='US'\").crosstab(\"State\",\"Date\").show()"
      ],
      "execution_count": 58,
      "outputs": [
        {
          "output_type": "stream",
          "text": [
            "+-------------------+----------+----------+----------+----------+----------+----------+----------+----------+----------+----------+----------+----------+----------+----------+----------+----------+----------+----------+----------+----------+----------+----------+----------+----------+----------+----------+----------+----------+----------+----------+----------+----------+----------+----------+----------+----------+----------+----------+----------+----------+----------+----------+----------+----------+----------+----------+----------+----------+----------+----------+----------+----------+----------+----------+----------+----------+----------+----------+----------+\n",
            "|         State_Date|2020-01-22|2020-01-23|2020-01-24|2020-01-25|2020-01-26|2020-01-27|2020-01-28|2020-01-29|2020-01-30|2020-01-31|2020-02-01|2020-02-02|2020-02-03|2020-02-04|2020-02-05|2020-02-06|2020-02-07|2020-02-08|2020-02-09|2020-02-10|2020-02-11|2020-02-12|2020-02-13|2020-02-14|2020-02-15|2020-02-16|2020-02-17|2020-02-18|2020-02-19|2020-02-20|2020-02-21|2020-02-22|2020-02-23|2020-02-24|2020-02-25|2020-02-26|2020-02-27|2020-02-28|2020-02-29|2020-03-01|2020-03-02|2020-03-03|2020-03-04|2020-03-05|2020-03-06|2020-03-07|2020-03-08|2020-03-09|2020-03-10|2020-03-11|2020-03-12|2020-03-13|2020-03-14|2020-03-15|2020-03-16|2020-03-17|2020-03-18|2020-03-19|2020-03-20|\n",
            "+-------------------+----------+----------+----------+----------+----------+----------+----------+----------+----------+----------+----------+----------+----------+----------+----------+----------+----------+----------+----------+----------+----------+----------+----------+----------+----------+----------+----------+----------+----------+----------+----------+----------+----------+----------+----------+----------+----------+----------+----------+----------+----------+----------+----------+----------+----------+----------+----------+----------+----------+----------+----------+----------+----------+----------+----------+----------+----------+----------+----------+\n",
            "|         New Mexico|         1|         1|         1|         1|         1|         1|         1|         1|         1|         1|         1|         1|         1|         1|         1|         1|         1|         1|         1|         1|         1|         1|         1|         1|         1|         1|         1|         1|         1|         1|         1|         1|         1|         1|         1|         1|         1|         1|         1|         1|         1|         1|         1|         1|         1|         1|         1|         1|         1|         1|         1|         1|         1|         1|         1|         1|         1|         1|         1|\n",
            "|   Clark County, NV|         1|         1|         1|         1|         1|         1|         1|         1|         1|         1|         1|         1|         1|         1|         1|         1|         1|         1|         1|         1|         1|         1|         1|         1|         1|         1|         1|         1|         1|         1|         1|         1|         1|         1|         1|         1|         1|         1|         1|         1|         1|         1|         1|         1|         1|         1|         1|         1|         1|         1|         1|         1|         1|         1|         1|         1|         1|         1|         1|\n",
            "|         Summit, UT|         1|         1|         1|         1|         1|         1|         1|         1|         1|         1|         1|         1|         1|         1|         1|         1|         1|         1|         1|         1|         1|         1|         1|         1|         1|         1|         1|         1|         1|         1|         1|         1|         1|         1|         1|         1|         1|         1|         1|         1|         1|         1|         1|         1|         1|         1|         1|         1|         1|         1|         1|         1|         1|         1|         1|         1|         1|         1|         1|\n",
            "|     Montgomery, TX|         1|         1|         1|         1|         1|         1|         1|         1|         1|         1|         1|         1|         1|         1|         1|         1|         1|         1|         1|         1|         1|         1|         1|         1|         1|         1|         1|         1|         1|         1|         1|         1|         1|         1|         1|         1|         1|         1|         1|         1|         1|         1|         1|         1|         1|         1|         1|         1|         1|         1|         1|         1|         1|         1|         1|         1|         1|         1|         1|\n",
            "|           Dane, WI|         1|         1|         1|         1|         1|         1|         1|         1|         1|         1|         1|         1|         1|         1|         1|         1|         1|         1|         1|         1|         1|         1|         1|         1|         1|         1|         1|         1|         1|         1|         1|         1|         1|         1|         1|         1|         1|         1|         1|         1|         1|         1|         1|         1|         1|         1|         1|         1|         1|         1|         1|         1|         1|         1|         1|         1|         1|         1|         1|\n",
            "|Prince George's, MD|         1|         1|         1|         1|         1|         1|         1|         1|         1|         1|         1|         1|         1|         1|         1|         1|         1|         1|         1|         1|         1|         1|         1|         1|         1|         1|         1|         1|         1|         1|         1|         1|         1|         1|         1|         1|         1|         1|         1|         1|         1|         1|         1|         1|         1|         1|         1|         1|         1|         1|         1|         1|         1|         1|         1|         1|         1|         1|         1|\n",
            "|Maricopa County, AZ|         1|         1|         1|         1|         1|         1|         1|         1|         1|         1|         1|         1|         1|         1|         1|         1|         1|         1|         1|         1|         1|         1|         1|         1|         1|         1|         1|         1|         1|         1|         1|         1|         1|         1|         1|         1|         1|         1|         1|         1|         1|         1|         1|         1|         1|         1|         1|         1|         1|         1|         1|         1|         1|         1|         1|         1|         1|         1|         1|\n",
            "|  Harris County, TX|         1|         1|         1|         1|         1|         1|         1|         1|         1|         1|         1|         1|         1|         1|         1|         1|         1|         1|         1|         1|         1|         1|         1|         1|         1|         1|         1|         1|         1|         1|         1|         1|         1|         1|         1|         1|         1|         1|         1|         1|         1|         1|         1|         1|         1|         1|         1|         1|         1|         1|         1|         1|         1|         1|         1|         1|         1|         1|         1|\n",
            "|     New Castle, DE|         1|         1|         1|         1|         1|         1|         1|         1|         1|         1|         1|         1|         1|         1|         1|         1|         1|         1|         1|         1|         1|         1|         1|         1|         1|         1|         1|         1|         1|         1|         1|         1|         1|         1|         1|         1|         1|         1|         1|         1|         1|         1|         1|         1|         1|         1|         1|         1|         1|         1|         1|         1|         1|         1|         1|         1|         1|         1|         1|\n",
            "|      Deschutes, OR|         1|         1|         1|         1|         1|         1|         1|         1|         1|         1|         1|         1|         1|         1|         1|         1|         1|         1|         1|         1|         1|         1|         1|         1|         1|         1|         1|         1|         1|         1|         1|         1|         1|         1|         1|         1|         1|         1|         1|         1|         1|         1|         1|         1|         1|         1|         1|         1|         1|         1|         1|         1|         1|         1|         1|         1|         1|         1|         1|\n",
            "|        Connecticut|         1|         1|         1|         1|         1|         1|         1|         1|         1|         1|         1|         1|         1|         1|         1|         1|         1|         1|         1|         1|         1|         1|         1|         1|         1|         1|         1|         1|         1|         1|         1|         1|         1|         1|         1|         1|         1|         1|         1|         1|         1|         1|         1|         1|         1|         1|         1|         1|         1|         1|         1|         1|         1|         1|         1|         1|         1|         1|         1|\n",
            "|          Gregg, TX|         1|         1|         1|         1|         1|         1|         1|         1|         1|         1|         1|         1|         1|         1|         1|         1|         1|         1|         1|         1|         1|         1|         1|         1|         1|         1|         1|         1|         1|         1|         1|         1|         1|         1|         1|         1|         1|         1|         1|         1|         1|         1|         1|         1|         1|         1|         1|         1|         1|         1|         1|         1|         1|         1|         1|         1|         1|         1|         1|\n",
            "|    Wake County, NC|         1|         1|         1|         1|         1|         1|         1|         1|         1|         1|         1|         1|         1|         1|         1|         1|         1|         1|         1|         1|         1|         1|         1|         1|         1|         1|         1|         1|         1|         1|         1|         1|         1|         1|         1|         1|         1|         1|         1|         1|         1|         1|         1|         1|         1|         1|         1|         1|         1|         1|         1|         1|         1|         1|         1|         1|         1|         1|         1|\n",
            "|          Boone, IN|         1|         1|         1|         1|         1|         1|         1|         1|         1|         1|         1|         1|         1|         1|         1|         1|         1|         1|         1|         1|         1|         1|         1|         1|         1|         1|         1|         1|         1|         1|         1|         1|         1|         1|         1|         1|         1|         1|         1|         1|         1|         1|         1|         1|         1|         1|         1|         1|         1|         1|         1|         1|         1|         1|         1|         1|         1|         1|         1|\n",
            "|         Beadle, SD|         1|         1|         1|         1|         1|         1|         1|         1|         1|         1|         1|         1|         1|         1|         1|         1|         1|         1|         1|         1|         1|         1|         1|         1|         1|         1|         1|         1|         1|         1|         1|         1|         1|         1|         1|         1|         1|         1|         1|         1|         1|         1|         1|         1|         1|         1|         1|         1|         1|         1|         1|         1|         1|         1|         1|         1|         1|         1|         1|\n",
            "| Johnson County, IA|         1|         1|         1|         1|         1|         1|         1|         1|         1|         1|         1|         1|         1|         1|         1|         1|         1|         1|         1|         1|         1|         1|         1|         1|         1|         1|         1|         1|         1|         1|         1|         1|         1|         1|         1|         1|         1|         1|         1|         1|         1|         1|         1|         1|         1|         1|         1|         1|         1|         1|         1|         1|         1|         1|         1|         1|         1|         1|         1|\n",
            "|   Tulsa County, OK|         1|         1|         1|         1|         1|         1|         1|         1|         1|         1|         1|         1|         1|         1|         1|         1|         1|         1|         1|         1|         1|         1|         1|         1|         1|         1|         1|         1|         1|         1|         1|         1|         1|         1|         1|         1|         1|         1|         1|         1|         1|         1|         1|         1|         1|         1|         1|         1|         1|         1|         1|         1|         1|         1|         1|         1|         1|         1|         1|\n",
            "|         California|         1|         1|         1|         1|         1|         1|         1|         1|         1|         1|         1|         1|         1|         1|         1|         1|         1|         1|         1|         1|         1|         1|         1|         1|         1|         1|         1|         1|         1|         1|         1|         1|         1|         1|         1|         1|         1|         1|         1|         1|         1|         1|         1|         1|         1|         1|         1|         1|         1|         1|         1|         1|         1|         1|         1|         1|         1|         1|         1|\n",
            "|  Collin County, TX|         1|         1|         1|         1|         1|         1|         1|         1|         1|         1|         1|         1|         1|         1|         1|         1|         1|         1|         1|         1|         1|         1|         1|         1|         1|         1|         1|         1|         1|         1|         1|         1|         1|         1|         1|         1|         1|         1|         1|         1|         1|         1|         1|         1|         1|         1|         1|         1|         1|         1|         1|         1|         1|         1|         1|         1|         1|         1|         1|\n",
            "|       Charlton, GA|         1|         1|         1|         1|         1|         1|         1|         1|         1|         1|         1|         1|         1|         1|         1|         1|         1|         1|         1|         1|         1|         1|         1|         1|         1|         1|         1|         1|         1|         1|         1|         1|         1|         1|         1|         1|         1|         1|         1|         1|         1|         1|         1|         1|         1|         1|         1|         1|         1|         1|         1|         1|         1|         1|         1|         1|         1|         1|         1|\n",
            "+-------------------+----------+----------+----------+----------+----------+----------+----------+----------+----------+----------+----------+----------+----------+----------+----------+----------+----------+----------+----------+----------+----------+----------+----------+----------+----------+----------+----------+----------+----------+----------+----------+----------+----------+----------+----------+----------+----------+----------+----------+----------+----------+----------+----------+----------+----------+----------+----------+----------+----------+----------+----------+----------+----------+----------+----------+----------+----------+----------+----------+\n",
            "only showing top 20 rows\n",
            "\n"
          ],
          "name": "stdout"
        }
      ]
    },
    {
      "cell_type": "code",
      "metadata": {
        "colab": {
          "base_uri": "https://localhost:8080/"
        },
        "id": "8hJP6nzpJvvK",
        "outputId": "75f33a8d-bbc1-4569-a411-404b6007e0b4"
      },
      "source": [
        "corona_df.show()"
      ],
      "execution_count": 59,
      "outputs": [
        {
          "output_type": "stream",
          "text": [
            "+---+----------------+--------------------+--------+---------+----------+---------+-----+---------+--------------------+----+\n",
            "|_c0|           State|             Country|     Lat|     Long|      Date|Confirmed|Death|Recovered|       state_cleaned|City|\n",
            "+---+----------------+--------------------+--------+---------+----------+---------+-----+---------+--------------------+----+\n",
            "|  0|            null|            Thailand|    15.0|    101.0|2020-01-22|        2|    0|        0|             Bangkok|null|\n",
            "|  1|            null|               Japan|    36.0|    138.0|2020-01-22|        2|    0|        0|             Hiraide|null|\n",
            "|  2|            null|           Singapore|  1.2833| 103.8333|2020-01-22|        0|    0|        0|           Singapore|null|\n",
            "|  3|            null|               Nepal| 28.1667|    84.25|2020-01-22|        0|    0|        0|           Kathmandu|null|\n",
            "|  4|            null|            Malaysia|     2.5|    112.5|2020-01-22|        0|    0|        0|             Sarawak|null|\n",
            "|  5|British Columbia|              Canada| 49.2827|-123.1207|2020-01-22|        0|    0|        0|    British Columbia|null|\n",
            "|  6| New South Wales|           Australia|-33.8688| 151.2093|2020-01-22|        0|    0|        0|     New South Wales|null|\n",
            "|  7|        Victoria|           Australia|-37.8136| 144.9631|2020-01-22|        0|    0|        0|            Victoria|null|\n",
            "|  8|      Queensland|           Australia|-28.0167|    153.4|2020-01-22|        0|    0|        0|          Queensland|null|\n",
            "|  9|            null|            Cambodia|   11.55| 104.9167|2020-01-22|        0|    0|        0|          Phnom Penh|null|\n",
            "| 10|            null|           Sri Lanka|     7.0|     81.0|2020-01-22|        0|    0|        0|Sri Jayawardenapu...|null|\n",
            "| 11|            null|             Germany|    51.0|      9.0|2020-01-22|        0|    0|        0|              Berlin|null|\n",
            "| 12|            null|             Finland|    64.0|     26.0|2020-01-22|        0|    0|        0|            Helsinki|null|\n",
            "| 13|            null|United Arab Emirates|    24.0|     54.0|2020-01-22|        0|    0|        0|           Abu Dhabi|null|\n",
            "| 14|            null|         Philippines|    13.0|    122.0|2020-01-22|        0|    0|        0|              Manila|null|\n",
            "| 15|            null|               India|    21.0|     78.0|2020-01-22|        0|    0|        0|           New Delhi|null|\n",
            "| 16|            null|               Italy|    43.0|     12.0|2020-01-22|        0|    0|        0|                Rome|null|\n",
            "| 17|            null|              Sweden|    63.0|     16.0|2020-01-22|        0|    0|        0|           Stockholm|null|\n",
            "| 18|            null|               Spain|    40.0|     -4.0|2020-01-22|        0|    0|        0|              Toledo|null|\n",
            "| 19| South Australia|           Australia|-34.9285| 138.6007|2020-01-22|        0|    0|        0|     South Australia|null|\n",
            "+---+----------------+--------------------+--------+---------+----------+---------+-----+---------+--------------------+----+\n",
            "only showing top 20 rows\n",
            "\n"
          ],
          "name": "stdout"
        }
      ]
    },
    {
      "cell_type": "code",
      "metadata": {
        "colab": {
          "base_uri": "https://localhost:8080/"
        },
        "id": "tuJ2KvayJ3dx",
        "outputId": "cbaf795e-0a81-46d4-a365-040f35c5ed40"
      },
      "source": [
        "corona_max_df.groupBy(\"Country\").agg({'Confirmed':'sum'}).show()"
      ],
      "execution_count": 60,
      "outputs": [
        {
          "output_type": "stream",
          "text": [
            "+-----------+--------------+\n",
            "|    Country|sum(Confirmed)|\n",
            "+-----------+--------------+\n",
            "|       Chad|             1|\n",
            "|   Paraguay|            13|\n",
            "|     Russia|           253|\n",
            "|    Senegal|            38|\n",
            "|     Sweden|          1639|\n",
            "| Cabo Verde|             1|\n",
            "|     Guyana|             7|\n",
            "|Philippines|           230|\n",
            "|   Djibouti|             1|\n",
            "|  Singapore|           385|\n",
            "|   Malaysia|          1030|\n",
            "|       Fiji|             1|\n",
            "|     Turkey|           359|\n",
            "|       Iraq|           208|\n",
            "|    Germany|         19848|\n",
            "|   Cambodia|            51|\n",
            "|Afghanistan|            24|\n",
            "|     Jordan|            85|\n",
            "|   Maldives|            13|\n",
            "|     Rwanda|            17|\n",
            "+-----------+--------------+\n",
            "only showing top 20 rows\n",
            "\n"
          ],
          "name": "stdout"
        }
      ]
    },
    {
      "cell_type": "code",
      "metadata": {
        "colab": {
          "base_uri": "https://localhost:8080/"
        },
        "id": "QV9aKY97KKJP",
        "outputId": "41dfe1f1-bd96-4750-efef-1889fbdf3162"
      },
      "source": [
        "corona_max_df.groupBy(\"Country\").agg({'Confirmed':'sum','Recovered':'sum','Death':'sum'}).orderBy(\"sum(Confirmed)\", ascending=False).show()"
      ],
      "execution_count": 61,
      "outputs": [
        {
          "output_type": "stream",
          "text": [
            "+--------------+--------------+----------+--------------+\n",
            "|       Country|sum(Recovered)|sum(Death)|sum(Confirmed)|\n",
            "+--------------+--------------+----------+--------------+\n",
            "|         China|         71266|      3253|         81250|\n",
            "|         Italy|          4440|      4032|         47021|\n",
            "|         Spain|          1588|      1043|         20410|\n",
            "|       Germany|           180|        67|         19848|\n",
            "|          Iran|          6745|      1433|         19644|\n",
            "|            US|             0|       244|         19100|\n",
            "|        France|            12|       450|         12726|\n",
            "|  Korea, South|          1540|        94|          8652|\n",
            "|   Switzerland|            15|        54|          5294|\n",
            "|United Kingdom|            67|       178|          4014|\n",
            "|   Netherlands|             2|       107|          3003|\n",
            "|       Austria|             9|         6|          2388|\n",
            "|       Belgium|             1|        37|          2257|\n",
            "|        Norway|             1|         7|          1914|\n",
            "|        Sweden|            16|        16|          1639|\n",
            "|       Denmark|             1|         9|          1337|\n",
            "|      Malaysia|            87|         3|          1030|\n",
            "|      Portugal|             5|         6|          1020|\n",
            "|         Japan|           191|        33|           963|\n",
            "|        Canada|             9|        12|           943|\n",
            "+--------------+--------------+----------+--------------+\n",
            "only showing top 20 rows\n",
            "\n"
          ],
          "name": "stdout"
        }
      ]
    },
    {
      "cell_type": "code",
      "metadata": {
        "colab": {
          "base_uri": "https://localhost:8080/"
        },
        "id": "RVuZWByPKYaF",
        "outputId": "bd72c925-39f6-487e-dac4-4e080392ed79"
      },
      "source": [
        "corona_df.filter(\"Country=='Italy'\").sort(\"Date\",ascending=False).show()"
      ],
      "execution_count": 62,
      "outputs": [
        {
          "output_type": "stream",
          "text": [
            "+-----+-----+-------+----+----+----------+---------+-----+---------+-------------+----+\n",
            "|  _c0|State|Country| Lat|Long|      Date|Confirmed|Death|Recovered|state_cleaned|City|\n",
            "+-----+-----+-------+----+----+----------+---------+-----+---------+-------------+----+\n",
            "|27682| null|  Italy|43.0|12.0|2020-03-20|    47021| 4032|     4440|         Rome|null|\n",
            "|27205| null|  Italy|43.0|12.0|2020-03-19|    41035| 3405|     4440|         Rome|null|\n",
            "|26728| null|  Italy|43.0|12.0|2020-03-18|    35713| 2978|     4025|         Rome|null|\n",
            "|26251| null|  Italy|43.0|12.0|2020-03-17|    31506| 2503|     2941|         Rome|null|\n",
            "|25774| null|  Italy|43.0|12.0|2020-03-16|    27980| 2158|     2749|         Rome|null|\n",
            "|25297| null|  Italy|43.0|12.0|2020-03-15|    24747| 1809|     2335|         Rome|null|\n",
            "|24820| null|  Italy|43.0|12.0|2020-03-14|    21157| 1441|     1966|         Rome|null|\n",
            "|24343| null|  Italy|43.0|12.0|2020-03-13|    17660| 1266|     1439|         Rome|null|\n",
            "|23866| null|  Italy|43.0|12.0|2020-03-12|    12462|  827|     1045|         Rome|null|\n",
            "|23389| null|  Italy|43.0|12.0|2020-03-11|    12462|  827|     1045|         Rome|null|\n",
            "|22912| null|  Italy|43.0|12.0|2020-03-10|    10149|  631|      724|         Rome|null|\n",
            "|22435| null|  Italy|43.0|12.0|2020-03-09|     9172|  463|      724|         Rome|null|\n",
            "|21958| null|  Italy|43.0|12.0|2020-03-08|     7375|  366|      622|         Rome|null|\n",
            "|21481| null|  Italy|43.0|12.0|2020-03-07|     5883|  233|      589|         Rome|null|\n",
            "|21004| null|  Italy|43.0|12.0|2020-03-06|     4636|  197|      523|         Rome|null|\n",
            "|20527| null|  Italy|43.0|12.0|2020-03-05|     3858|  148|      414|         Rome|null|\n",
            "|20050| null|  Italy|43.0|12.0|2020-03-04|     3089|  107|      276|         Rome|null|\n",
            "|19573| null|  Italy|43.0|12.0|2020-03-03|     2502|   79|      160|         Rome|null|\n",
            "|19096| null|  Italy|43.0|12.0|2020-03-02|     2036|   52|      149|         Rome|null|\n",
            "|18619| null|  Italy|43.0|12.0|2020-03-01|     1694|   34|       83|         Rome|null|\n",
            "+-----+-----+-------+----+----+----------+---------+-----+---------+-------------+----+\n",
            "only showing top 20 rows\n",
            "\n"
          ],
          "name": "stdout"
        }
      ]
    },
    {
      "cell_type": "code",
      "metadata": {
        "colab": {
          "base_uri": "https://localhost:8080/"
        },
        "id": "njyYJSRuKmUY",
        "outputId": "2ddb3889-e58f-4fd8-d273-241b0ede6fda"
      },
      "source": [
        "corona_max_df.withColumn(\"Active\",corona_max_df.Confirmed - corona_max_df.Recovered - corona_max_df.Death).sort(\"Active\",ascending=False).show()"
      ],
      "execution_count": 63,
      "outputs": [
        {
          "output_type": "stream",
          "text": [
            "+--------------+----------------+----------+-----+--------------+-------+-------------------+---------+-----+---------+----------+------+\n",
            "|       Country|   state_cleaned|      Date|  _c0|         State|    Lat|               Long|Confirmed|Death|Recovered|      City|Active|\n",
            "+--------------+----------------+----------+-----+--------------+-------+-------------------+---------+-----+---------+----------+------+\n",
            "|         Italy|            Rome|2020-03-20|27682|          null|   43.0|               12.0|    47021| 4032|     4440|      null| 38549|\n",
            "|       Germany|          Berlin|2020-03-20|27677|          null|   51.0|                9.0|    19848|   67|      180|      null| 19601|\n",
            "|         Spain|          Toledo|2020-03-20|27684|          null|   40.0|               -4.0|    20410| 1043|     1588|      null| 17779|\n",
            "|        France|          France|2020-03-20|27823|        France|46.2276|             2.2137|    12612|  450|       12|      null| 12150|\n",
            "|          Iran|          Tehran|2020-03-20|27821|          null|   32.0|               53.0|    19644| 1433|     6745|      null| 11466|\n",
            "|            US|        New York|2020-03-20|27765|      New York|42.1657|           -74.9481|     8310|   42|        0|  New York|  8268|\n",
            "|  Korea, South|Gyeongsangbuk-do|2020-03-20|27822|          null|   36.0|              128.0|     8652|   94|     1540|      null|  7018|\n",
            "|         China|           Hubei|2020-03-20|27820|         Hubei|30.9756|           112.2707|    67800| 3133|    58382|      null|  6285|\n",
            "|   Switzerland|            Bern|2020-03-20|27697|          null|46.8182|             8.2275|     5294|   54|       15|      null|  5225|\n",
            "|United Kingdom|  United Kingdom|2020-03-20|28069|United Kingdom|55.3781|-3.4360000000000004|     3983|  177|       65|      null|  3741|\n",
            "|   Netherlands|     Netherlands|2020-03-20|28106|   Netherlands|52.1326|             5.2913|     2994|  106|        2|      null|  2886|\n",
            "|       Austria|          Vienna|2020-03-20|27698|          null|47.5162|            14.5501|     2388|    6|        9|      null|  2373|\n",
            "|       Belgium|        Brussels|2020-03-20|27686|          null|50.8333|                4.0|     2257|   37|        1|      null|  2219|\n",
            "|        Norway|             Hol|2020-03-20|27705|          null| 60.472|             8.4689|     1914|    7|        1|      null|  1906|\n",
            "|        Sweden|       Stockholm|2020-03-20|27683|          null|   63.0|               16.0|     1639|   16|       16|      null|  1607|\n",
            "|            US|      Washington|2020-03-20|27764|    Washington|47.4009|          -121.4905|     1524|   83|        0|Washington|  1441|\n",
            "|       Denmark|         Denmark|2020-03-20|27836|       Denmark|56.2639|             9.5018|     1255|    9|        1|      null|  1245|\n",
            "|            US|      California|2020-03-20|27766|    California|36.1162|          -119.6816|     1177|   23|        0|California|  1154|\n",
            "|      Portugal|          Lisbon|2020-03-20|27725|          null|39.3999|            -8.2245|     1020|    6|        5|      null|  1009|\n",
            "|      Malaysia|         Sarawak|2020-03-20|27670|          null|    2.5|              112.5|     1030|    3|       87|      null|   940|\n",
            "+--------------+----------------+----------+-----+--------------+-------+-------------------+---------+-----+---------+----------+------+\n",
            "only showing top 20 rows\n",
            "\n"
          ],
          "name": "stdout"
        }
      ]
    },
    {
      "cell_type": "code",
      "metadata": {
        "id": "LY5Sz9zpKu9M"
      },
      "source": [
        "corona_max_df=corona_max_df.withColumn(\"Active\",corona_max_df.Confirmed - corona_max_df.Recovered - corona_max_df.Death)"
      ],
      "execution_count": 64,
      "outputs": []
    },
    {
      "cell_type": "code",
      "metadata": {
        "colab": {
          "base_uri": "https://localhost:8080/"
        },
        "id": "Z5ha_uSGK6O-",
        "outputId": "c4d4e59e-a76d-438d-8862-83c78c399b12"
      },
      "source": [
        "corona_max_df.show(10)"
      ],
      "execution_count": 65,
      "outputs": [
        {
          "output_type": "stream",
          "text": [
            "+---------+----------------+----------+-----+----------------+--------+---------+---------+-----+---------+----+------+\n",
            "|  Country|   state_cleaned|      Date|  _c0|           State|     Lat|     Long|Confirmed|Death|Recovered|City|Active|\n",
            "+---------+----------------+----------+-----+----------------+--------+---------+---------+-----+---------+----+------+\n",
            "| Thailand|         Bangkok|2020-03-20|27666|            null|    15.0|    101.0|      322|    1|       42|null|   279|\n",
            "|    Japan|         Hiraide|2020-03-20|27667|            null|    36.0|    138.0|      963|   33|      191|null|   739|\n",
            "|Singapore|       Singapore|2020-03-20|27668|            null|  1.2833| 103.8333|      385|    0|      124|null|   261|\n",
            "|    Nepal|       Kathmandu|2020-03-20|27669|            null| 28.1667|    84.25|        1|    0|        1|null|     0|\n",
            "| Malaysia|         Sarawak|2020-03-20|27670|            null|     2.5|    112.5|     1030|    3|       87|null|   940|\n",
            "|   Canada|British Columbia|2020-03-20|27671|British Columbia| 49.2827|-123.1207|      271|    8|        4|null|   259|\n",
            "|Australia| New South Wales|2020-03-20|27672| New South Wales|-33.8688| 151.2093|      353|    6|        4|null|   343|\n",
            "|Australia|        Victoria|2020-03-20|27673|        Victoria|-37.8136| 144.9631|      121|    0|        8|null|   113|\n",
            "|Australia|      Queensland|2020-03-20|27674|      Queensland|-28.0167|    153.4|      184|    0|        8|null|   176|\n",
            "| Cambodia|      Phnom Penh|2020-03-20|27675|            null|   11.55| 104.9167|       51|    0|        1|null|    50|\n",
            "+---------+----------------+----------+-----+----------------+--------+---------+---------+-----+---------+----+------+\n",
            "only showing top 10 rows\n",
            "\n"
          ],
          "name": "stdout"
        }
      ]
    },
    {
      "cell_type": "code",
      "metadata": {
        "colab": {
          "base_uri": "https://localhost:8080/"
        },
        "id": "A-HAF907K7gO",
        "outputId": "325cfceb-e4d4-440f-fc28-af1402c8b948"
      },
      "source": [
        "corona_max_df.groupBy(\"Country\").sum(\"Active\").orderBy(\"sum(Active)\",ascending=False).show()"
      ],
      "execution_count": 66,
      "outputs": [
        {
          "output_type": "stream",
          "text": [
            "+--------------+-----------+\n",
            "|       Country|sum(Active)|\n",
            "+--------------+-----------+\n",
            "|         Italy|      38549|\n",
            "|       Germany|      19601|\n",
            "|            US|      18856|\n",
            "|         Spain|      17779|\n",
            "|        France|      12264|\n",
            "|          Iran|      11466|\n",
            "|  Korea, South|       7018|\n",
            "|         China|       6731|\n",
            "|   Switzerland|       5225|\n",
            "|United Kingdom|       3769|\n",
            "|   Netherlands|       2894|\n",
            "|       Austria|       2373|\n",
            "|       Belgium|       2219|\n",
            "|        Norway|       1906|\n",
            "|        Sweden|       1607|\n",
            "|       Denmark|       1327|\n",
            "|      Portugal|       1009|\n",
            "|      Malaysia|        940|\n",
            "|        Canada|        922|\n",
            "|       Czechia|        829|\n",
            "+--------------+-----------+\n",
            "only showing top 20 rows\n",
            "\n"
          ],
          "name": "stdout"
        }
      ]
    },
    {
      "cell_type": "code",
      "metadata": {
        "colab": {
          "base_uri": "https://localhost:8080/"
        },
        "id": "NJi87EwiK_TA",
        "outputId": "c27f60b3-f6ba-411e-bea3-06d89a720896"
      },
      "source": [
        "corona_max_df.select(\"Country\",\"State_cleaned\",\"Confirmed\",\"Recovered\").filter(col(\"Country\").isin('Australia','China')).cube(\"Country\").sum().sort(asc(\"Country\")).show(100)"
      ],
      "execution_count": 67,
      "outputs": [
        {
          "output_type": "stream",
          "text": [
            "+---------+--------------+--------------+\n",
            "|  Country|sum(Confirmed)|sum(Recovered)|\n",
            "+---------+--------------+--------------+\n",
            "|     null|         82041|         71292|\n",
            "|Australia|           791|            26|\n",
            "|    China|         81250|         71266|\n",
            "+---------+--------------+--------------+\n",
            "\n"
          ],
          "name": "stdout"
        }
      ]
    },
    {
      "cell_type": "code",
      "metadata": {
        "colab": {
          "base_uri": "https://localhost:8080/"
        },
        "id": "ORj19pu6LT1i",
        "outputId": "3b82aec2-27d3-4f80-b58a-f531e2233e81"
      },
      "source": [
        "corona_max_df.select(\"Country\",\"State_cleaned\",\"Confirmed\",\"Recovered\").filter(col(\"Country\").isin('Australia','Canada')).cube(\"Country\",\"State_cleaned\").sum().sort(asc(\"Country\")).show(100)"
      ],
      "execution_count": 68,
      "outputs": [
        {
          "output_type": "stream",
          "text": [
            "+---------+--------------------+--------------+--------------+\n",
            "|  Country|       State_cleaned|sum(Confirmed)|sum(Recovered)|\n",
            "+---------+--------------------+--------------+--------------+\n",
            "|     null|          Queensland|           184|             8|\n",
            "|     null|         Nova Scotia|            15|             0|\n",
            "|     null|              Quebec|           139|             0|\n",
            "|     null|   Western Australia|            64|             0|\n",
            "|     null|     South Australia|            50|             3|\n",
            "|     null|            Victoria|           121|             8|\n",
            "|     null|  Northern Territory|             3|             0|\n",
            "|     null|Prince Edward Island|             2|             0|\n",
            "|     null|        Saskatchewan|            20|             0|\n",
            "|     null|Australian Capita...|             6|             0|\n",
            "|     null|                null|          1734|            35|\n",
            "|     null|             Alberta|           146|             0|\n",
            "|     null|      Grand Princess|            10|             0|\n",
            "|     null|Newfoundland and ...|             4|             0|\n",
            "|     null|     New South Wales|           353|             4|\n",
            "|     null|            Manitoba|            17|             0|\n",
            "|     null|       New Brunswick|            11|             0|\n",
            "|     null|             Ontario|           308|             5|\n",
            "|     null|            Tasmania|            10|             3|\n",
            "|     null|From Diamond Prin...|             0|             0|\n",
            "|     null|    British Columbia|           271|             4|\n",
            "|Australia|          Queensland|           184|             8|\n",
            "|Australia|     New South Wales|           353|             4|\n",
            "|Australia|From Diamond Prin...|             0|             0|\n",
            "|Australia|   Western Australia|            64|             0|\n",
            "|Australia|  Northern Territory|             3|             0|\n",
            "|Australia|            Tasmania|            10|             3|\n",
            "|Australia|            Victoria|           121|             8|\n",
            "|Australia|Australian Capita...|             6|             0|\n",
            "|Australia|                null|           791|            26|\n",
            "|Australia|     South Australia|            50|             3|\n",
            "|   Canada|Prince Edward Island|             2|             0|\n",
            "|   Canada|        Saskatchewan|            20|             0|\n",
            "|   Canada|    British Columbia|           271|             4|\n",
            "|   Canada|              Quebec|           139|             0|\n",
            "|   Canada|       New Brunswick|            11|             0|\n",
            "|   Canada|Newfoundland and ...|             4|             0|\n",
            "|   Canada|      Grand Princess|            10|             0|\n",
            "|   Canada|                null|           943|             9|\n",
            "|   Canada|         Nova Scotia|            15|             0|\n",
            "|   Canada|             Ontario|           308|             5|\n",
            "|   Canada|             Alberta|           146|             0|\n",
            "|   Canada|            Manitoba|            17|             0|\n",
            "+---------+--------------------+--------------+--------------+\n",
            "\n"
          ],
          "name": "stdout"
        }
      ]
    },
    {
      "cell_type": "code",
      "metadata": {
        "colab": {
          "base_uri": "https://localhost:8080/"
        },
        "id": "sSrsxi_xLbWm",
        "outputId": "b73b880a-da39-4466-a734-76dc6244759f"
      },
      "source": [
        "corona_max_df.select(\"Country\",\"State_cleaned\",\"Confirmed\",\"Recovered\").filter(col(\"Country\").isin('Australia','Canada')).rollup(\"Country\",\"State_cleaned\").sum().sort(asc(\"Country\")).show(100)"
      ],
      "execution_count": 69,
      "outputs": [
        {
          "output_type": "stream",
          "text": [
            "+---------+--------------------+--------------+--------------+\n",
            "|  Country|       State_cleaned|sum(Confirmed)|sum(Recovered)|\n",
            "+---------+--------------------+--------------+--------------+\n",
            "|     null|                null|          1734|            35|\n",
            "|Australia|Australian Capita...|             6|             0|\n",
            "|Australia|     New South Wales|           353|             4|\n",
            "|Australia|            Tasmania|            10|             3|\n",
            "|Australia|            Victoria|           121|             8|\n",
            "|Australia|          Queensland|           184|             8|\n",
            "|Australia|From Diamond Prin...|             0|             0|\n",
            "|Australia|   Western Australia|            64|             0|\n",
            "|Australia|  Northern Territory|             3|             0|\n",
            "|Australia|                null|           791|            26|\n",
            "|Australia|     South Australia|            50|             3|\n",
            "|   Canada|        Saskatchewan|            20|             0|\n",
            "|   Canada|      Grand Princess|            10|             0|\n",
            "|   Canada|Prince Edward Island|             2|             0|\n",
            "|   Canada|         Nova Scotia|            15|             0|\n",
            "|   Canada|       New Brunswick|            11|             0|\n",
            "|   Canada|    British Columbia|           271|             4|\n",
            "|   Canada|Newfoundland and ...|             4|             0|\n",
            "|   Canada|                null|           943|             9|\n",
            "|   Canada|             Ontario|           308|             5|\n",
            "|   Canada|             Alberta|           146|             0|\n",
            "|   Canada|              Quebec|           139|             0|\n",
            "|   Canada|            Manitoba|            17|             0|\n",
            "+---------+--------------------+--------------+--------------+\n",
            "\n"
          ],
          "name": "stdout"
        }
      ]
    },
    {
      "cell_type": "code",
      "metadata": {
        "colab": {
          "base_uri": "https://localhost:8080/"
        },
        "id": "QrZzZLA7Ll6D",
        "outputId": "9cfb627f-7ff3-45d1-873f-043b06189b3e"
      },
      "source": [
        "corona_max_df.corr('Confirmed','Recovered')"
      ],
      "execution_count": 70,
      "outputs": [
        {
          "output_type": "execute_result",
          "data": {
            "text/plain": [
              "0.8052934236742176"
            ]
          },
          "metadata": {
            "tags": []
          },
          "execution_count": 70
        }
      ]
    },
    {
      "cell_type": "code",
      "metadata": {
        "colab": {
          "base_uri": "https://localhost:8080/"
        },
        "id": "v1Za7ku0Lrx3",
        "outputId": "605d1ce4-4b73-43be-f33f-901fe85c44cf"
      },
      "source": [
        "from pyspark import StorageLevel\n",
        "corona_max_df.persist(StorageLevel.MEMORY_AND_DISK)"
      ],
      "execution_count": 71,
      "outputs": [
        {
          "output_type": "execute_result",
          "data": {
            "text/plain": [
              "DataFrame[Country: string, state_cleaned: string, Date: string, _c0: int, State: string, Lat: double, Long: double, Confirmed: int, Death: int, Recovered: int, City: string, Active: int]"
            ]
          },
          "metadata": {
            "tags": []
          },
          "execution_count": 71
        }
      ]
    },
    {
      "cell_type": "code",
      "metadata": {
        "colab": {
          "base_uri": "https://localhost:8080/"
        },
        "id": "MzYrr001Lum4",
        "outputId": "bd8a9ce2-8d9e-4c41-b426-540c36a403f9"
      },
      "source": [
        "%timeit corona_max_df.count()"
      ],
      "execution_count": 72,
      "outputs": [
        {
          "output_type": "stream",
          "text": [
            "The slowest run took 27.07 times longer than the fastest. This could mean that an intermediate result is being cached.\n",
            "1 loop, best of 5: 94.3 ms per loop\n"
          ],
          "name": "stdout"
        }
      ]
    },
    {
      "cell_type": "code",
      "metadata": {
        "id": "eevduilRLzIj"
      },
      "source": [
        "pd = corona_df.toPandas()"
      ],
      "execution_count": 73,
      "outputs": []
    },
    {
      "cell_type": "code",
      "metadata": {
        "colab": {
          "base_uri": "https://localhost:8080/",
          "height": 227
        },
        "id": "Ydr9e90yMA5I",
        "outputId": "a3c7a771-b453-4f8e-edc0-563f4a3bc650"
      },
      "source": [
        "pd.corr()"
      ],
      "execution_count": 74,
      "outputs": [
        {
          "output_type": "execute_result",
          "data": {
            "text/html": [
              "<div>\n",
              "<style scoped>\n",
              "    .dataframe tbody tr th:only-of-type {\n",
              "        vertical-align: middle;\n",
              "    }\n",
              "\n",
              "    .dataframe tbody tr th {\n",
              "        vertical-align: top;\n",
              "    }\n",
              "\n",
              "    .dataframe thead th {\n",
              "        text-align: right;\n",
              "    }\n",
              "</style>\n",
              "<table border=\"1\" class=\"dataframe\">\n",
              "  <thead>\n",
              "    <tr style=\"text-align: right;\">\n",
              "      <th></th>\n",
              "      <th>_c0</th>\n",
              "      <th>Lat</th>\n",
              "      <th>Long</th>\n",
              "      <th>Confirmed</th>\n",
              "      <th>Death</th>\n",
              "      <th>Recovered</th>\n",
              "    </tr>\n",
              "  </thead>\n",
              "  <tbody>\n",
              "    <tr>\n",
              "      <th>_c0</th>\n",
              "      <td>1.000000</td>\n",
              "      <td>-0.001594</td>\n",
              "      <td>-0.005303</td>\n",
              "      <td>0.046789</td>\n",
              "      <td>0.043155</td>\n",
              "      <td>0.042857</td>\n",
              "    </tr>\n",
              "    <tr>\n",
              "      <th>Lat</th>\n",
              "      <td>-0.001594</td>\n",
              "      <td>1.000000</td>\n",
              "      <td>-0.383389</td>\n",
              "      <td>0.008531</td>\n",
              "      <td>0.007041</td>\n",
              "      <td>0.000778</td>\n",
              "    </tr>\n",
              "    <tr>\n",
              "      <th>Long</th>\n",
              "      <td>-0.005303</td>\n",
              "      <td>-0.383389</td>\n",
              "      <td>1.000000</td>\n",
              "      <td>0.098893</td>\n",
              "      <td>0.074918</td>\n",
              "      <td>0.079047</td>\n",
              "    </tr>\n",
              "    <tr>\n",
              "      <th>Confirmed</th>\n",
              "      <td>0.046789</td>\n",
              "      <td>0.008531</td>\n",
              "      <td>0.098893</td>\n",
              "      <td>1.000000</td>\n",
              "      <td>0.963376</td>\n",
              "      <td>0.853924</td>\n",
              "    </tr>\n",
              "    <tr>\n",
              "      <th>Death</th>\n",
              "      <td>0.043155</td>\n",
              "      <td>0.007041</td>\n",
              "      <td>0.074918</td>\n",
              "      <td>0.963376</td>\n",
              "      <td>1.000000</td>\n",
              "      <td>0.857292</td>\n",
              "    </tr>\n",
              "    <tr>\n",
              "      <th>Recovered</th>\n",
              "      <td>0.042857</td>\n",
              "      <td>0.000778</td>\n",
              "      <td>0.079047</td>\n",
              "      <td>0.853924</td>\n",
              "      <td>0.857292</td>\n",
              "      <td>1.000000</td>\n",
              "    </tr>\n",
              "  </tbody>\n",
              "</table>\n",
              "</div>"
            ],
            "text/plain": [
              "                _c0       Lat      Long  Confirmed     Death  Recovered\n",
              "_c0        1.000000 -0.001594 -0.005303   0.046789  0.043155   0.042857\n",
              "Lat       -0.001594  1.000000 -0.383389   0.008531  0.007041   0.000778\n",
              "Long      -0.005303 -0.383389  1.000000   0.098893  0.074918   0.079047\n",
              "Confirmed  0.046789  0.008531  0.098893   1.000000  0.963376   0.853924\n",
              "Death      0.043155  0.007041  0.074918   0.963376  1.000000   0.857292\n",
              "Recovered  0.042857  0.000778  0.079047   0.853924  0.857292   1.000000"
            ]
          },
          "metadata": {
            "tags": []
          },
          "execution_count": 74
        }
      ]
    },
    {
      "cell_type": "code",
      "metadata": {
        "id": "HwbkVI4pMBzD"
      },
      "source": [
        "corona_max_df.createOrReplaceTempView(\"corona\")"
      ],
      "execution_count": 76,
      "outputs": []
    },
    {
      "cell_type": "code",
      "metadata": {
        "colab": {
          "base_uri": "https://localhost:8080/"
        },
        "id": "36wAYsZZMI4M",
        "outputId": "675ee7bb-0c25-4c9e-e09a-a6a22cad83bc"
      },
      "source": [
        "spark.sql(\"select * from corona\").show()"
      ],
      "execution_count": 77,
      "outputs": [
        {
          "output_type": "stream",
          "text": [
            "+--------------------+--------------------+----------+-----+----------------+--------+---------+---------+-----+---------+----+------+\n",
            "|             Country|       state_cleaned|      Date|  _c0|           State|     Lat|     Long|Confirmed|Death|Recovered|City|Active|\n",
            "+--------------------+--------------------+----------+-----+----------------+--------+---------+---------+-----+---------+----+------+\n",
            "|            Thailand|             Bangkok|2020-03-20|27666|            null|    15.0|    101.0|      322|    1|       42|null|   279|\n",
            "|               Japan|             Hiraide|2020-03-20|27667|            null|    36.0|    138.0|      963|   33|      191|null|   739|\n",
            "|           Singapore|           Singapore|2020-03-20|27668|            null|  1.2833| 103.8333|      385|    0|      124|null|   261|\n",
            "|               Nepal|           Kathmandu|2020-03-20|27669|            null| 28.1667|    84.25|        1|    0|        1|null|     0|\n",
            "|            Malaysia|             Sarawak|2020-03-20|27670|            null|     2.5|    112.5|     1030|    3|       87|null|   940|\n",
            "|              Canada|    British Columbia|2020-03-20|27671|British Columbia| 49.2827|-123.1207|      271|    8|        4|null|   259|\n",
            "|           Australia|     New South Wales|2020-03-20|27672| New South Wales|-33.8688| 151.2093|      353|    6|        4|null|   343|\n",
            "|           Australia|            Victoria|2020-03-20|27673|        Victoria|-37.8136| 144.9631|      121|    0|        8|null|   113|\n",
            "|           Australia|          Queensland|2020-03-20|27674|      Queensland|-28.0167|    153.4|      184|    0|        8|null|   176|\n",
            "|            Cambodia|          Phnom Penh|2020-03-20|27675|            null|   11.55| 104.9167|       51|    0|        1|null|    50|\n",
            "|           Sri Lanka|Sri Jayawardenapu...|2020-03-20|27676|            null|     7.0|     81.0|       73|    0|        3|null|    70|\n",
            "|             Germany|              Berlin|2020-03-20|27677|            null|    51.0|      9.0|    19848|   67|      180|null| 19601|\n",
            "|             Finland|            Helsinki|2020-03-20|27678|            null|    64.0|     26.0|      450|    0|       10|null|   440|\n",
            "|United Arab Emirates|           Abu Dhabi|2020-03-20|27679|            null|    24.0|     54.0|      140|    2|       31|null|   107|\n",
            "|         Philippines|              Manila|2020-03-20|27680|            null|    13.0|    122.0|      230|   18|        8|null|   204|\n",
            "|               India|           New Delhi|2020-03-20|27681|            null|    21.0|     78.0|      244|    5|       20|null|   219|\n",
            "|               Italy|                Rome|2020-03-20|27682|            null|    43.0|     12.0|    47021| 4032|     4440|null| 38549|\n",
            "|              Sweden|           Stockholm|2020-03-20|27683|            null|    63.0|     16.0|     1639|   16|       16|null|  1607|\n",
            "|               Spain|              Toledo|2020-03-20|27684|            null|    40.0|     -4.0|    20410| 1043|     1588|null| 17779|\n",
            "|           Australia|     South Australia|2020-03-20|27685| South Australia|-34.9285| 138.6007|       50|    0|        3|null|    47|\n",
            "+--------------------+--------------------+----------+-----+----------------+--------+---------+---------+-----+---------+----+------+\n",
            "only showing top 20 rows\n",
            "\n"
          ],
          "name": "stdout"
        }
      ]
    }
  ]
}